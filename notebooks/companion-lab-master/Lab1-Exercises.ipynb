{
 "cells": [
  {
   "cell_type": "markdown",
   "metadata": {},
   "source": [
    "# Elementary Probability Notions"
   ]
  },
  {
   "cell_type": "markdown",
   "metadata": {},
   "source": [
    "## Exercise 1\n",
    "(Events, implementation)\n",
    "\n",
    "Illustrate DeMorgan's laws using the `plot_venn()` function and standard Python set operations:\n",
    "1. $\\neg (A\\cup B) = \\neg A \\cap \\neg B$\n",
    "1. $\\neg (A\\cap B) = \\neg A \\cup \\neg B$"
   ]
  },
  {
   "cell_type": "code",
   "execution_count": 1,
   "metadata": {},
   "outputs": [],
   "source": [
    "from tools.venn import A, B, omega, plot_venn\n",
    "# First law\n",
    "\n",
    "# Second law"
   ]
  },
  {
   "cell_type": "markdown",
   "metadata": {},
   "source": [
    "## Exercise 2\n",
    "(Product of sample spaces, implementation)\n",
    "\n",
    "Two dice are thrown simultaneously. Calculate the probability that the sum is 11."
   ]
  },
  {
   "cell_type": "code",
   "execution_count": 1,
   "metadata": {},
   "outputs": [
    {
     "name": "stdout",
     "output_type": "stream",
     "text": [
      "Omega: {(3, 4), (4, 3), (3, 1), (5, 4), (4, 6), (5, 1), (2, 2), (1, 6), (2, 5), (1, 3), (6, 2), (6, 5), (4, 2), (4, 5), (3, 3), (5, 6), (3, 6), (5, 3), (2, 4), (1, 2), (2, 1), (1, 5), (6, 1), (6, 4), (3, 2), (4, 1), (3, 5), (5, 2), (4, 4), (5, 5), (1, 1), (1, 4), (2, 3), (2, 6), (6, 6), (6, 3)}\n",
      "A: {(5, 6), (6, 5)}\n",
      "P(A)= 0.05555555555555555\n"
     ]
    }
   ],
   "source": [
    "from itertools import product\n",
    "\n",
    "from tools.stats import probability\n",
    "from itertools import combinations\n",
    "\n",
    "#omega = set(combinations([1,2,3,4,5,6],2))\n",
    "omega = set(product(set(range(1,7)), set(range(1,7))))\n",
    "A = set(a for a in omega if 5 in a and 6 in a)\n",
    "print('Omega:',omega)\n",
    "print('A:', A)\n",
    "print('P(A)=', probability(A, omega))\n",
    "\n"
   ]
  },
  {
   "cell_type": "markdown",
   "metadata": {},
   "source": [
    "## Exercise 3\n",
    "(Conditional probabilities, implementation)\n",
    "\n",
    "The event S represents the sum of two dice. What is the probability that S=11 knowing that S is a prime?"
   ]
  },
  {
   "cell_type": "code",
   "execution_count": 11,
   "metadata": {},
   "outputs": [
    {
     "name": "stdout",
     "output_type": "stream",
     "text": [
      "0.13333333333333333\n"
     ]
    }
   ],
   "source": [
    "from itertools import product\n",
    "from tools.stats import probability\n",
    "\n",
    "omega = set(product(set(range(1,7)),set(range(1,7))))\n",
    "B = set(a for a in omega if a[0]+a[1] == 2 or a[0]+a[1] == 3 or a[0]+a[1] == 5 or a[0]+a[1] == 7 or a[0]+a[1] == 11)\n",
    "A = set(a for a in omega if a[0]+a[1] == 11)\n",
    "res = probability(A&B, B)\n",
    "print(res)"
   ]
  },
  {
   "cell_type": "markdown",
   "metadata": {},
   "source": [
    "## Exercise 4 - Monty Hall problem\n",
    "(Bayes' theorem, implementation and analysis)\n",
    "\n",
    "Suppose you are in a game show and you're given the choice of three doors; behind one is a car, behind the others, goats. You pick door no. 1, but don't open it. The game host (who knows what is behind each door) then opens a door which always has a goat (in this case opens door no. 2) and asks you if you still want to open door no.1 or you want to switch to no.3. \n",
    "\n",
    "What are the probabilities of finding the car in the two cases?\n",
    "\n",
    "1. Create a Python simulation for 1000 games to estimate the answer.\n",
    "2. Find the answer using the `tool.stats.probability_weighted` function (see [this approach](http://web.mit.edu/neboat/Public/6.042/probabilityintro.pdf) for constructing the sample space).\n",
    "3. Find the answer mathematically by applying Bayes' theorem and the law of total probability."
   ]
  },
  {
   "cell_type": "markdown",
   "metadata": {},
   "source": [
    "## Exercise 5\n",
    "(Probabilities, analysis)\n",
    "\n",
    "Using the definition of the probability, prove that:\n",
    "\n",
    "1. $P(\\neg A) = 1-P(A)$\n",
    "1. $A \\subseteq B \\Rightarrow P(A) \\leq P(B)$\n",
    "\n",
    "## Exercise 6\n",
    "(Probabilities, analysis)\n",
    "\n",
    "Using the definition of the probability, prove that:\n",
    "\n",
    "1. $P(A \\setminus B) = P(A) - P(A \\cap B)$\n",
    "1. $P(A \\cup B) = P(A) + P(B) - P(A \\cap B)$"
   ]
  },
  {
   "cell_type": "markdown",
   "metadata": {},
   "source": [
    "## Exercise 7\n",
    "\n",
    "(Independent events, analysis)\n",
    "\n",
    "Two soldiers A and B are doing target practice. The probability that soldier A misses is 1/5. The probability that soldier B misses is 1/2. Probability that both miss at the same time is 1/10.\n",
    "\n",
    "1. Are the two events independent?\n",
    "1. What is the probability that at least one of the soldiers misses?\n",
    "1. What is the probability that exactly one of the soldiers misses?"
   ]
  },
  {
   "cell_type": "markdown",
   "metadata": {},
   "source": [
    "## Exercise 8\n",
    "(Independent events, implementation)\n",
    "\n",
    "Consider the event space corresponding to two tosses of a fair coin, and the events A \"heads on toss 1\", B \"heads on toss 2\" and C \"the two tosses are equal\". Using the `tools.stats.probability` function, find if:\n",
    "\n",
    "1. events A and B are independent;\n",
    "1. events A and C are independent."
   ]
  },
  {
   "cell_type": "code",
   "execution_count": 4,
   "metadata": {},
   "outputs": [],
   "source": [
    "from tools.stats import probability\n",
    "\n",
    "# Code here"
   ]
  }
 ],
 "metadata": {
  "kernelspec": {
   "display_name": "Python 3.10.4 64-bit",
   "language": "python",
   "name": "python3"
  },
  "language_info": {
   "codemirror_mode": {
    "name": "ipython",
    "version": 3
   },
   "file_extension": ".py",
   "mimetype": "text/x-python",
   "name": "python",
   "nbconvert_exporter": "python",
   "pygments_lexer": "ipython3",
   "version": "3.10.4"
  },
  "vscode": {
   "interpreter": {
    "hash": "369f2c481f4da34e4445cda3fffd2e751bd1c4d706f27375911949ba6bb62e1c"
   }
  }
 },
 "nbformat": 4,
 "nbformat_minor": 4
}
