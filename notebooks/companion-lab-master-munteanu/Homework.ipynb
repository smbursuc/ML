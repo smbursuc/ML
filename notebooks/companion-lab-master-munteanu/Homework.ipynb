{
 "cells": [
  {
   "cell_type": "markdown",
   "id": "044dc450-8772-43ec-92ef-8ad6ed454b13",
   "metadata": {},
   "source": [
    "# What is my homework?"
   ]
  },
  {
   "cell_type": "code",
   "execution_count": null,
   "id": "67163e92-9054-4df2-afa9-5e00f9ce5171",
   "metadata": {},
   "outputs": [],
   "source": [
    "import pandas as pd\n",
    "from hashlib import sha1\n",
    "\n",
    "def what_is_my_homework(email: str, lab_no: int):\n",
    "    \"\"\"\n",
    "    What is my assigned homework for the given lab?\n",
    "    \n",
    "    Print a message that displays the assigned homework for a specific\n",
    "    email and a specific lab.\n",
    "    \n",
    "    Parameters\n",
    "    ----------\n",
    "    email : string\n",
    "        The email you provided at the beginning of the semester.\n",
    "    lab_no : int\n",
    "        The lab number for which to assign homework.\n",
    "        \n",
    "    Examples\n",
    "    --------\n",
    "    >>> what_is_my_homework('my_email@example.com', 1)\n",
    "    Your homework for lab 1: 1, 7.\n",
    "    \"\"\"\n",
    "    df = pd.read_csv(\"tools/hw.csv\")\n",
    "    if lab_no not in df['Lab'].unique():\n",
    "        print(\"No homework assigned for this lab!\")\n",
    "        return\n",
    "    df_lab = df[df['Lab'] == lab_no]\n",
    "    key = (email+str(lab_no)).encode(\"utf-8\")\n",
    "    idx = int(sha1(key).hexdigest(), 16) % 2**10\n",
    "    hw = df_lab.sample(n=1, random_state=idx).iloc[0, 1]\n",
    "    print(f\"Your homework for lab {lab_no}: {hw}.\")\n",
    "\n",
    "what_is_my_homework('my_email@example.com', 1)"
   ]
  }
 ],
 "metadata": {
  "kernelspec": {
   "display_name": "Python 3 (ipykernel)",
   "language": "python",
   "name": "python3"
  },
  "language_info": {
   "codemirror_mode": {
    "name": "ipython",
    "version": 3
   },
   "file_extension": ".py",
   "mimetype": "text/x-python",
   "name": "python",
   "nbconvert_exporter": "python",
   "pygments_lexer": "ipython3",
   "version": "3.8.10"
  }
 },
 "nbformat": 4,
 "nbformat_minor": 5
}
