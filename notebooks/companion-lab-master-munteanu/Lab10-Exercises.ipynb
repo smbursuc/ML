{
 "cells": [
  {
   "cell_type": "markdown",
   "metadata": {},
   "source": [
    "# Exercise 1\n",
    "Agglomerative clustering on a 2d dataset\n",
    "\n",
    "Considering the points (-4, -2), (-3, -2), (-2, -2), (-1, -2), (1, -1), (1, 1), (2, 3), (3, 2), (3, 4), (4, 3):\n",
    "1. create a scatter plot using `pyplot`;\n",
    "1. create the dendrogram using `AgglomerativeClustering` with single-linkage and then color the scatter plot using the best 4 clusters;\n",
    "1. create the dendrogram using `AgglomerativeClustering` with complete-linkage and then color the scatter plot using the best 4 clusters;\n",
    "1. what is the difference in behaviour between the two types of linkage? What shapes do they tend to give to the clusters?"
   ]
  },
  {
   "cell_type": "markdown",
   "metadata": {},
   "source": [
    "# Exercise 2\n",
    "\"Natural\" clusters\n",
    "\n",
    "Given the dataset {0, 4, 5, 20, 25, 39, 43, 44}:\n",
    "1. find the natural clusters using agglomerative clusters with single-linkage and plot clusters using a scatter plot;\n",
    "1. find the natural clusters using agglomerative clusters with average-linkage and plot clusters using a scatter plot."
   ]
  },
  {
   "cell_type": "markdown",
   "metadata": {},
   "source": [
    "# Exercise 3\n",
    "\n",
    "For each the following two datasets `d1` and `d2`:\n",
    "1. plot the points using `pyplot` and highlight (by using different colours for the points) the 2 clusters found by agglomerative clustering using single linkage;\n",
    "1. plot the points using `pyplot` and highlight (by using different colours for the points) the 2 clusters found by agglomerative clustering using average linkage."
   ]
  },
  {
   "cell_type": "code",
   "execution_count": 97,
   "metadata": {},
   "outputs": [],
   "source": [
    "from sklearn import datasets as ds\n",
    "\n",
    "np.random.seed(0)\n",
    "X1, _ = ds.make_circles(n_samples=1500, factor=.5,  noise=.05)\n",
    "X2, _ = ds.make_blobs(n_samples=1500,\n",
    "                      cluster_std=[1.0, 2.5, 0.5],\n",
    "                      random_state=170)\n",
    "\n",
    "d1 = pd.DataFrame(X1, columns=['X1', 'X2'])\n",
    "d2 = pd.DataFrame(X2, columns=['X1', 'X2'])"
   ]
  }
 ],
 "metadata": {
  "kernelspec": {
   "display_name": "Python 3",
   "language": "python",
   "name": "python3"
  },
  "language_info": {
   "codemirror_mode": {
    "name": "ipython",
    "version": 3
   },
   "file_extension": ".py",
   "mimetype": "text/x-python",
   "name": "python",
   "nbconvert_exporter": "python",
   "pygments_lexer": "ipython3",
   "version": "3.7.5"
  }
 },
 "nbformat": 4,
 "nbformat_minor": 4
}
