{
 "cells": [
  {
   "cell_type": "markdown",
   "metadata": {},
   "source": [
    "# Project 1\n",
    "\n",
    "Deadline: 3rd of November 2022\n",
    "\n",
    "To do this project you have to complete this Jupyter notebook and send it via email or Discord.\n",
    "\n",
    "The total number of points allocated for this project is 10."
   ]
  },
  {
   "cell_type": "markdown",
   "metadata": {},
   "source": [
    "You will need the following modules to solve the tasks:"
   ]
  },
  {
   "cell_type": "code",
   "execution_count": 1,
   "metadata": {},
   "outputs": [],
   "source": [
    "import pandas as pd\n",
    "import math\n",
    "import numpy as np\n",
    "from pprint import pprint\n",
    "from sklearn.preprocessing import OneHotEncoder\n",
    "from sklearn import tree\n",
    "import matplotlib.pyplot as plt"
   ]
  },
  {
   "cell_type": "markdown",
   "metadata": {},
   "source": [
    "## I. Probabilities (1 point; 0.05 bonus points per week)"
   ]
  },
  {
   "cell_type": "markdown",
   "metadata": {},
   "source": [
    "We will use the [penguin dataset](https://allisonhorst.github.io/palmerpenguins/articles/intro.html). The purpose is to predict the species of a penguin using multiple features such as its sex, weight, the habitant island etc."
   ]
  },
  {
   "cell_type": "code",
   "execution_count": 2,
   "metadata": {},
   "outputs": [
    {
     "name": "stdout",
     "output_type": "stream",
     "text": [
      "        sex  island  bill_length_mm  bill_depth_mm  flipper_length_mm  \\\n",
      "15   female  Biscoe            37.8           18.3              174.0   \n",
      "16     male  Biscoe            37.7           18.7              180.0   \n",
      "17   female  Biscoe            35.9           19.2              189.0   \n",
      "18     male  Biscoe            38.2           18.1              185.0   \n",
      "19     male  Biscoe            38.8           17.2              180.0   \n",
      "..      ...     ...             ...            ...                ...   \n",
      "260  female  Biscoe            47.2           13.7              214.0   \n",
      "261  female  Biscoe            46.8           14.3              215.0   \n",
      "262    male  Biscoe            50.4           15.7              222.0   \n",
      "263  female  Biscoe            45.2           14.8              212.0   \n",
      "264    male  Biscoe            49.9           16.1              213.0   \n",
      "\n",
      "     body_mass_g species  \n",
      "15        3400.0  Adelie  \n",
      "16        3600.0  Adelie  \n",
      "17        3800.0  Adelie  \n",
      "18        3950.0  Adelie  \n",
      "19        3800.0  Adelie  \n",
      "..           ...     ...  \n",
      "260       4925.0  Gentoo  \n",
      "261       4850.0  Gentoo  \n",
      "262       5750.0  Gentoo  \n",
      "263       5200.0  Gentoo  \n",
      "264       5400.0  Gentoo  \n",
      "\n",
      "[163 rows x 7 columns]\n"
     ]
    }
   ],
   "source": [
    "penguin_dataset = pd.read_csv(\"data/penguins_filtered.csv\")\n",
    "penguin_dataset.head()\n",
    "print(penguin_dataset.loc[penguin_dataset['island'] == 'Biscoe'])"
   ]
  },
  {
   "cell_type": "markdown",
   "metadata": {},
   "source": [
    "1. Create two variables, `species_values` and `island_values` that will store values of the two random variables \"Species\" and \"Island\". (*Hint*: `numpy.unique`)"
   ]
  },
  {
   "cell_type": "code",
   "execution_count": 3,
   "metadata": {},
   "outputs": [
    {
     "name": "stdout",
     "output_type": "stream",
     "text": [
      "['Adelie' 'Chinstrap' 'Gentoo'] [146  68 119]\n",
      "['Biscoe' 'Dream' 'Torgersen'] [163 123  47]\n"
     ]
    }
   ],
   "source": [
    "from collections import Counter\n",
    "species_values, species_counts = np.unique(penguin_dataset.species, return_counts=True)\n",
    "island_values, island_counts = np.unique(penguin_dataset.island, return_counts=True)\n",
    "print(species_values, species_counts)\n",
    "print(island_values, island_counts)"
   ]
  },
  {
   "cell_type": "markdown",
   "metadata": {},
   "source": [
    "2. Calculate the PMF of the two random variables."
   ]
  },
  {
   "cell_type": "code",
   "execution_count": 4,
   "metadata": {},
   "outputs": [
    {
     "name": "stdout",
     "output_type": "stream",
     "text": [
      "0.35735735735735735\n",
      "0.4894894894894895\n",
      "0.36936936936936937\n",
      "0.14114114114114115\n"
     ]
    }
   ],
   "source": [
    "from data.stats import probability_weighted, WeightedOutcome\n",
    "from dataclasses import dataclass\n",
    "\n",
    "@dataclass(frozen=True)\n",
    "class Outcome(WeightedOutcome):\n",
    "    attribute: str\n",
    "\n",
    "omega_species = set([Outcome(attribute='Adelie', weight=146/333), \n",
    "             Outcome(attribute='Chinstrap', weight=68/333),\n",
    "             Outcome(attribute='Gentoo', weight=119/333)])\n",
    "X = {'Adelie': 1, 'Chinstrap': 2, 'Gentoo': 3}\n",
    "\n",
    "def pmf_species(X, a, omega):\n",
    "    A = set(o for o in omega if X[o.attribute] is a)\n",
    "    return probability_weighted(A, omega)\n",
    "\n",
    "print(pmf_species(X, 3, omega_species))\n",
    "\n",
    "omega_islands = set([Outcome(attribute='Biscoe', weight=163/333), \n",
    "             Outcome(attribute='Dream', weight=123/333),\n",
    "             Outcome(attribute='Torgersen', weight=47/333)])\n",
    "Y = {'Biscoe': 1, 'Dream': 2, 'Torgersen': 3}\n",
    "\n",
    "def pmf_islands(X, a, omega):\n",
    "    A = set(o for o in omega if X[o.attribute] is a)\n",
    "    return probability_weighted(A, omega)\n",
    "\n",
    "for i in range(1,4):\n",
    "    print(pmf_islands(Y, i, omega_islands))\n",
    "\n",
    "\n"
   ]
  },
  {
   "cell_type": "markdown",
   "metadata": {},
   "source": [
    "3. We know that $P(Species = Gentoo, Island = Dream) = 0.20$ and $P(Species = Gentoo, Island = Torgersen) = 0.05735735$. Knowing that the penguin is from the Biscoe island, what is the probability that its species is Gentoo? (*Hint*: the formula of conditional probability and the law of total probability for multiple events)"
   ]
  },
  {
   "cell_type": "code",
   "execution_count": 5,
   "metadata": {},
   "outputs": [
    {
     "name": "stdout",
     "output_type": "stream",
     "text": [
      "0.10035735735735735\n"
     ]
    }
   ],
   "source": [
    "# solution here\n",
    "#P(A|B) = P(A.intersection(B))/P(B) \n",
    "#A=gentoo, B = biscoe\n",
    "#P(Gentoo.intersection(Biscoe)) = P(Gentoo) - P(Gentoo, Dream) - P(Gentoo,Torgersen)\n",
    "P_biscoeAndGentoo = 119/333 - 0.20 - 0.057\n",
    "print(P_biscoeAndGentoo)\n"
   ]
  },
  {
   "cell_type": "markdown",
   "metadata": {},
   "source": [
    "4. Calculate the average body mass of the penguins."
   ]
  },
  {
   "cell_type": "code",
   "execution_count": 6,
   "metadata": {},
   "outputs": [
    {
     "name": "stdout",
     "output_type": "stream",
     "text": [
      "[2700. 2850. 2900. 2925. 3000. 3050. 3075. 3100. 3150. 3175. 3200. 3250.\n",
      " 3275. 3300. 3325. 3350. 3400. 3425. 3450. 3475. 3500. 3525. 3550. 3575.\n",
      " 3600. 3625. 3650. 3675. 3700. 3725. 3750. 3775. 3800. 3825. 3850. 3875.\n",
      " 3900. 3950. 3975. 4000. 4050. 4075. 4100. 4150. 4200. 4250. 4275. 4300.\n",
      " 4350. 4375. 4400. 4450. 4475. 4500. 4550. 4575. 4600. 4625. 4650. 4675.\n",
      " 4700. 4725. 4750. 4775. 4800. 4850. 4875. 4900. 4925. 4950. 4975. 5000.\n",
      " 5050. 5100. 5150. 5200. 5250. 5300. 5350. 5400. 5450. 5500. 5550. 5600.\n",
      " 5650. 5700. 5750. 5800. 5850. 5950. 6000. 6050. 6300.] [ 1  2  4  1  2  4  1  1  4  2  5  5  1  5  5  5  8  2  8  2  7  2  9  1\n",
      "  7  1  6  2 10  3  5  4 12  1  1  1 10 10  1  5  6  1  4  6  5  4  1  8\n",
      "  2  1  8  5  1  3  2  1  5  2  4  1  6  2  5  1  3  4  2  2  2  2  1  6\n",
      "  3  3  2  4  3  4  3  5  1  5  6  2  3  5  1  2  3  2  2  1  1]\n",
      "4207.057057057059\n"
     ]
    }
   ],
   "source": [
    "# solution here\n",
    "bodymass_values, bodymass_counts = np.unique(penguin_dataset.body_mass_g, return_counts=True)\n",
    "print(bodymass_values,bodymass_counts)\n",
    "\n",
    "bodymass_values=list(bodymass_values)\n",
    "bodymass_counts=list(bodymass_counts)\n",
    "\n",
    "E_x = 0\n",
    "for i in range(len(bodymass_counts)):\n",
    "    E_x = E_x + bodymass_counts[i]/sum(bodymass_counts) * bodymass_values[i]\n",
    "\n",
    "print(E_x)\n"
   ]
  },
  {
   "cell_type": "markdown",
   "metadata": {},
   "source": [
    "5. Calculate the variance of the distribution of penguins body mass."
   ]
  },
  {
   "cell_type": "code",
   "execution_count": 7,
   "metadata": {},
   "outputs": [
    {
     "name": "stdout",
     "output_type": "stream",
     "text": [
      "646425.4231709188\n"
     ]
    }
   ],
   "source": [
    "# solution here\n",
    "Var_x = 0\n",
    "for i in range(len(bodymass_counts)):\n",
    "    Var_x = Var_x + bodymass_counts[i]/sum(bodymass_counts) * pow((bodymass_values[i] - E_x),2)\n",
    "\n",
    "print(Var_x)\n",
    "\n"
   ]
  },
  {
   "cell_type": "markdown",
   "metadata": {},
   "source": [
    "## II. Entropy (2.5 points; bonus 0.1 per week)"
   ]
  },
  {
   "cell_type": "markdown",
   "metadata": {},
   "source": [
    "1. Create a function, `generate_probabilities`, that will take the observations of a discrete random variable and create the vector of probabilities that describe the PMF."
   ]
  },
  {
   "cell_type": "code",
   "execution_count": 8,
   "metadata": {},
   "outputs": [
    {
     "data": {
      "text/plain": [
       "[0.4, 0.6]"
      ]
     },
     "execution_count": 8,
     "metadata": {},
     "output_type": "execute_result"
    }
   ],
   "source": [
    "\"\"\"\n",
    "Example: generate_probabilities([1,1,0,0,1,1,0,0,1,1]) should return [0.4, 0.6]\n",
    "0.4 indicates P(X=0) and 0.6 P(X=1)\n",
    "\n",
    "\"\"\"\n",
    "def generate_probabilities(observations):\n",
    "    values, value_count = np.unique(observations, return_counts=True)\n",
    "    probabilities = []\n",
    "    sample_nr = sum(value_count)\n",
    "    for i in range(len(values)):\n",
    "        probabilities.append(value_count[i]/sample_nr)\n",
    "    return probabilities\n",
    "\n",
    "generate_probabilities([1,1,0,0,1,1,0,0,1,1])\n"
   ]
  },
  {
   "cell_type": "markdown",
   "metadata": {},
   "source": [
    "2. Create a variable `pmf_species` that will store the probabilities for the target attribute \"species\" from the penguin dataset using the function from ex.1. "
   ]
  },
  {
   "cell_type": "code",
   "execution_count": 9,
   "metadata": {},
   "outputs": [
    {
     "name": "stdout",
     "output_type": "stream",
     "text": [
      "[0.43843843843843844, 0.2042042042042042, 0.35735735735735735]\n"
     ]
    }
   ],
   "source": [
    "# solution here\n",
    "\"\"\" values, value_count = np.unique(penguin_dataset.species, return_counts=True)\n",
    "p_species = generate_probabilities(penguin_dataset.species)\n",
    "pmf_species = {}\n",
    "for i in range(len(values)):\n",
    "    pmf_species[values[i]] = p_species[i]\n",
    "\n",
    "print(values,value_count)\n",
    "print(pmf_species) \"\"\"\n",
    "\n",
    "pmf_species = generate_probabilities(penguin_dataset.species)\n",
    "print(pmf_species)\n"
   ]
  },
  {
   "cell_type": "markdown",
   "metadata": {},
   "source": [
    "3. Create a function `calculate_entropy` that will take as argument the pmf of a discrete random variable and return its entropy. (*Hint*: use `math.log2` to calculate logarithms)"
   ]
  },
  {
   "cell_type": "code",
   "execution_count": 10,
   "metadata": {},
   "outputs": [],
   "source": [
    "# be careful at the cases where a probability is 0\n",
    "def calculate_entropy(p):\n",
    "    log_zero = lambda x: 0 if x == 0 else math.log2(x)\n",
    "    return -sum(i*log_zero(i) for i in p)"
   ]
  },
  {
   "cell_type": "markdown",
   "metadata": {},
   "source": [
    "4. Create a variable `total_entropy_species` that will store the entropy of the target attribute \"species\"."
   ]
  },
  {
   "cell_type": "code",
   "execution_count": 11,
   "metadata": {},
   "outputs": [
    {
     "name": "stdout",
     "output_type": "stream",
     "text": [
      "1.5200835543530915\n"
     ]
    }
   ],
   "source": [
    "# solution here\n",
    "total_entropy_species = calculate_entropy(pmf_species)\n",
    "print(total_entropy_species)"
   ]
  },
  {
   "cell_type": "markdown",
   "metadata": {},
   "source": [
    "5. Create a function `calculate_conditional_entropy` that will calculate the average conditionally entropy $H(X|Y)$. The function takes three arguments: the dataset containing the observations, the feature that describes the discrete random variable $Y$ and the feature that describes the discrete random variables $X$.\n",
    "\n",
    "*Hint*:\n",
    "- iterate through every unique value of Y; for each value you should\n",
    "    - calculate the probability of that value\n",
    "    - filter the dataset to keep only that value for Y\n",
    "    - calculate the specific conditional entropy $H(X|Y=val)$\n"
   ]
  },
  {
   "cell_type": "code",
   "execution_count": 12,
   "metadata": {},
   "outputs": [
    {
     "data": {
      "text/plain": [
       "1.4337951896176162"
      ]
     },
     "execution_count": 12,
     "metadata": {},
     "output_type": "execute_result"
    }
   ],
   "source": [
    "def calculate_conditional_entropy(dataset, feature, target_feature):\n",
    "    values_of_Y = dataset.filter(items=[feature])\n",
    "    unique_Y_values, uy_count = np.unique(values_of_Y, return_counts=True)\n",
    "    p_y = []\n",
    "    p_y_sample_nr = sum(uy_count)\n",
    "    for i in range(len(unique_Y_values)):\n",
    "        p_y.append(uy_count[i]/p_y_sample_nr)\n",
    "    #print(\"probabilities of \" + feature + \":\",p_y)\n",
    "    conditional_entropy = 0\n",
    "    for i in range(len(unique_Y_values)):\n",
    "        temp_dataset = dataset.loc[dataset[feature] == unique_Y_values[i]]\n",
    "\n",
    "        values_of_X = temp_dataset.filter(items=[target_feature])\n",
    "        unique_X_values, ux_count = np.unique(values_of_X, return_counts=True)\n",
    "        p_xy = []\n",
    "        p_xy_sample_nr = sum(ux_count)\n",
    "        for j in range(len(unique_X_values)):\n",
    "            p_xy.append(ux_count[j]/p_xy_sample_nr)\n",
    "        #print(\"probabilities of \"+ feature + \"|\" + unique_Y_values[i] + \":\",p_xy)\n",
    "        # H(X|Y=y) = sum(p(x|y)log2p(x|y))\n",
    "\n",
    "        conditional_entropy = conditional_entropy + calculate_entropy(p_xy)*p_y[i] \n",
    "    \n",
    "    #print(\"H(\" + feature + \"|\" + target_feature + \"): \" + str(conditional_entropy))\n",
    "    return conditional_entropy\n",
    "\n",
    "calculate_conditional_entropy(penguin_dataset,'sex','island')"
   ]
  },
  {
   "cell_type": "markdown",
   "metadata": {},
   "source": [
    "6. Create a function `calculate_information_gain` that will calculate the information gain $IG(H;Y)$ using the its definition and the functions `calculate_entropy` and `calculate_conditional_entropy`. The arguments are the same as in the `calculate_conditional_entropy` function."
   ]
  },
  {
   "cell_type": "code",
   "execution_count": 13,
   "metadata": {},
   "outputs": [],
   "source": [
    "def calculate_information_gain(dataset, feature, target_feature):\n",
    "    values_of_H = dataset.filter(items=[target_feature])\n",
    "    unique_H_values, uh_count = np.unique(values_of_H, return_counts=True)\n",
    "    p_H = []\n",
    "    p_H_sample_nr = sum(uh_count)\n",
    "    for i in range(len(unique_H_values)):\n",
    "        p_H.append(uh_count[i]/p_H_sample_nr)\n",
    "    return calculate_entropy(p_H) - calculate_conditional_entropy(dataset,feature,target_feature)\n",
    "\n",
    "#print(\"Information Gain is\",calculate_information_gain(penguin_dataset, 'island', 'sex'))"
   ]
  },
  {
   "cell_type": "markdown",
   "metadata": {},
   "source": [
    "7. Calculate the information gains $IG(species;island)$ and $IG(species;sex)$."
   ]
  },
  {
   "cell_type": "code",
   "execution_count": 14,
   "metadata": {},
   "outputs": [
    {
     "name": "stdout",
     "output_type": "stream",
     "text": [
      "Information Gain is 0.7418510895067658\n",
      "Information Gain is 0.00010530129858565829\n"
     ]
    }
   ],
   "source": [
    "# solution here\n",
    "print(\"Information Gain is\",calculate_information_gain(penguin_dataset, 'island','species'))\n",
    "print(\"Information Gain is\",calculate_information_gain(penguin_dataset, 'sex', 'species'))"
   ]
  },
  {
   "cell_type": "markdown",
   "metadata": {},
   "source": [
    "8. Based on the results, which of the attributes \"sex\" and \"island\" achieve a more qualitative separation of the \"species\" target attribute?"
   ]
  },
  {
   "cell_type": "code",
   "execution_count": 15,
   "metadata": {},
   "outputs": [],
   "source": [
    "#The attribute island because the information gain of species with island is greater than the information gain of species with sex"
   ]
  },
  {
   "cell_type": "markdown",
   "metadata": {},
   "source": [
    "*Answer here:* "
   ]
  },
  {
   "cell_type": "markdown",
   "metadata": {},
   "source": [
    "## III. Decision Tree - the discrete case (3.5 points; bonus 0.15 per week)"
   ]
  },
  {
   "cell_type": "markdown",
   "metadata": {},
   "source": [
    "1. Before running the ID3 algorihtm, we must quantify all the random variables. Quantify the \"Species\" target attribute using this following mapping: Adelie - 1, Chinstrap - 2, Gentoo - 3. (*Hint* check Panda's `replace` function.)"
   ]
  },
  {
   "cell_type": "code",
   "execution_count": 16,
   "metadata": {},
   "outputs": [
    {
     "name": "stdout",
     "output_type": "stream",
     "text": [
      "        sex  island  bill_length_mm  bill_depth_mm  flipper_length_mm  \\\n",
      "146  female  Biscoe            46.1           13.2              211.0   \n",
      "147    male  Biscoe            50.0           16.3              230.0   \n",
      "148  female  Biscoe            48.7           14.1              210.0   \n",
      "149    male  Biscoe            50.0           15.2              218.0   \n",
      "150    male  Biscoe            47.6           14.5              215.0   \n",
      "..      ...     ...             ...            ...                ...   \n",
      "260  female  Biscoe            47.2           13.7              214.0   \n",
      "261  female  Biscoe            46.8           14.3              215.0   \n",
      "262    male  Biscoe            50.4           15.7              222.0   \n",
      "263  female  Biscoe            45.2           14.8              212.0   \n",
      "264    male  Biscoe            49.9           16.1              213.0   \n",
      "\n",
      "     body_mass_g  species  \n",
      "146       4500.0        3  \n",
      "147       5700.0        3  \n",
      "148       4450.0        3  \n",
      "149       5700.0        3  \n",
      "150       5400.0        3  \n",
      "..           ...      ...  \n",
      "260       4925.0        3  \n",
      "261       4850.0        3  \n",
      "262       5750.0        3  \n",
      "263       5200.0        3  \n",
      "264       5400.0        3  \n",
      "\n",
      "[119 rows x 7 columns]\n"
     ]
    }
   ],
   "source": [
    "#solution here\n",
    "penguin_dataset = pd.read_csv(\"data/penguins_filtered.csv\")\n",
    "penguin_dataset = penguin_dataset.replace({'species': {'Adelie': 1,'Chinstrap':2,'Gentoo':3}})\n",
    "print(penguin_dataset.loc[penguin_dataset['species'] == 3])\n",
    "#print(penguin_dataset)"
   ]
  },
  {
   "cell_type": "markdown",
   "metadata": {},
   "source": [
    "2. Using OneHot Encoders, convert the features \"sex\" and \"island\" to numerical values. You should add the new columns at the beginning of the table and remove the old ones. (*Hint*: check Panda's `drop` method to remove a column.)"
   ]
  },
  {
   "cell_type": "code",
   "execution_count": 17,
   "metadata": {},
   "outputs": [
    {
     "name": "stdout",
     "output_type": "stream",
     "text": [
      "     Torgersen  Dream  Biscoe  male  female  bill_length_mm  bill_depth_mm  \\\n",
      "0            1      0       0     1       0            39.1           18.7   \n",
      "1            1      0       0     0       1            39.5           17.4   \n",
      "2            1      0       0     0       1            40.3           18.0   \n",
      "3            1      0       0     0       1            36.7           19.3   \n",
      "4            1      0       0     1       0            39.3           20.6   \n",
      "..         ...    ...     ...   ...     ...             ...            ...   \n",
      "328          0      1       0     1       0            55.8           19.8   \n",
      "329          0      1       0     0       1            43.5           18.1   \n",
      "330          0      1       0     1       0            49.6           18.2   \n",
      "331          0      1       0     1       0            50.8           19.0   \n",
      "332          0      1       0     0       1            50.2           18.7   \n",
      "\n",
      "     flipper_length_mm  body_mass_g  species  \n",
      "0                181.0       3750.0        1  \n",
      "1                186.0       3800.0        1  \n",
      "2                195.0       3250.0        1  \n",
      "3                193.0       3450.0        1  \n",
      "4                190.0       3650.0        1  \n",
      "..                 ...          ...      ...  \n",
      "328              207.0       4000.0        2  \n",
      "329              202.0       3400.0        2  \n",
      "330              193.0       3775.0        2  \n",
      "331              210.0       4100.0        2  \n",
      "332              198.0       3775.0        2  \n",
      "\n",
      "[333 rows x 10 columns]\n"
     ]
    }
   ],
   "source": [
    "# solution here\n",
    "#sex\n",
    "#penguin_dataset = pd.read_csv(\"data/penguins_filtered.csv\")\n",
    "one_hot = pd.get_dummies(penguin_dataset['sex'])\n",
    "penguin_dataset = penguin_dataset.drop('sex',axis = 1) \n",
    "penguin_dataset.insert(loc=0, column='male', value=one_hot['male'])\n",
    "penguin_dataset.insert(loc=1, column='female', value=one_hot['female'])\n",
    "#island\n",
    "one_hot = pd.get_dummies(penguin_dataset['island'])\n",
    "penguin_dataset = penguin_dataset.drop('island',axis = 1) \n",
    "penguin_dataset.insert(loc=0, column='Torgersen', value=one_hot['Torgersen'])\n",
    "penguin_dataset.insert(loc=1, column='Dream', value=one_hot['Dream'])\n",
    "penguin_dataset.insert(loc=2, column='Biscoe', value=one_hot['Biscoe'])\n",
    "print(penguin_dataset)\n"
   ]
  },
  {
   "cell_type": "markdown",
   "metadata": {},
   "source": [
    "3. For this discrete case we need only the discrete features. Filter the pandas dataframe and keep only the discrete columns (there should 6 of them). Keep the filtered dataset in a new variable, named `discrete_penguin_dataset`."
   ]
  },
  {
   "cell_type": "code",
   "execution_count": 18,
   "metadata": {},
   "outputs": [
    {
     "name": "stdout",
     "output_type": "stream",
     "text": [
      "     Torgersen  Dream  Biscoe  male  female  species\n",
      "0            1      0       0     1       0        1\n",
      "1            1      0       0     0       1        1\n",
      "2            1      0       0     0       1        1\n",
      "3            1      0       0     0       1        1\n",
      "4            1      0       0     1       0        1\n",
      "..         ...    ...     ...   ...     ...      ...\n",
      "328          0      1       0     1       0        2\n",
      "329          0      1       0     0       1        2\n",
      "330          0      1       0     1       0        2\n",
      "331          0      1       0     1       0        2\n",
      "332          0      1       0     0       1        2\n",
      "\n",
      "[333 rows x 6 columns]\n"
     ]
    }
   ],
   "source": [
    "#solution here\n",
    "penguin_dataset_temp = penguin_dataset\n",
    "discrete_penguin_dataset = penguin_dataset_temp.drop(columns=['bill_length_mm','bill_depth_mm','flipper_length_mm','body_mass_g'])\n",
    "print(discrete_penguin_dataset)"
   ]
  },
  {
   "cell_type": "markdown",
   "metadata": {},
   "source": [
    "4. Find the root of the ID3 decision tree using the information gain. What feature should be used? (*Note*: You are not allowed to use external python modules.)"
   ]
  },
  {
   "cell_type": "code",
   "execution_count": 37,
   "metadata": {},
   "outputs": [
    {
     "name": "stdout",
     "output_type": "stream",
     "text": [
      "('Biscoe', 0.6125580734423619)\n",
      "Biscoe\n"
     ]
    },
    {
     "data": {
      "text/plain": [
       "'Biscoe'"
      ]
     },
     "execution_count": 37,
     "metadata": {},
     "output_type": "execute_result"
    }
   ],
   "source": [
    "# solution here\n",
    "\n",
    "results = {}\n",
    "\n",
    "cols = discrete_penguin_dataset.columns\n",
    "\n",
    "for col in cols:\n",
    "    if col!='species':\n",
    "        IG = calculate_information_gain(discrete_penguin_dataset,col,'species')\n",
    "        results[col] = IG\n",
    "\n",
    "results = {k: v for k, v in sorted(results.items(), key=lambda item: item[1])}\n",
    "print(list(results.items())[-1])\n",
    "root = list(results.items())[-1][0]\n",
    "print(root)\n",
    "\n",
    "def findRoot(dataset):\n",
    "    results = {}\n",
    "    cols = dataset.columns\n",
    "    for col in cols:\n",
    "        if col!='species':\n",
    "            IG = calculate_information_gain(discrete_penguin_dataset,col,'species')\n",
    "            results[col] = IG\n",
    "    results = {k: v for k, v in sorted(results.items(), key=lambda item: item[1])}\n",
    "    if len(results) == 0:\n",
    "        return ''\n",
    "    else:\n",
    "        root = list(results.items())[-1]\n",
    "        return root[0]\n",
    "\n",
    "findRoot(discrete_penguin_dataset)\n",
    "\n",
    "\n"
   ]
  },
  {
   "cell_type": "markdown",
   "metadata": {},
   "source": [
    "5. Let's suppose that the root node is \"Biscoe\". Create the variable `filtered_dataset` that should store the sub-tree for Biscoe=1 (in other words, filter out the records from the dataset where Biscoe is 0). Make sure to drop the column of the root node \"Biscoe\"."
   ]
  },
  {
   "cell_type": "code",
   "execution_count": 55,
   "metadata": {},
   "outputs": [
    {
     "name": "stdout",
     "output_type": "stream",
     "text": [
      "0.6143161690406562\n",
      "     Torgersen  Dream  male  female  species\n",
      "15           0      0     0       1        1\n",
      "16           0      0     1       0        1\n",
      "17           0      0     0       1        1\n",
      "18           0      0     1       0        1\n",
      "19           0      0     1       0        1\n",
      "..         ...    ...   ...     ...      ...\n",
      "260          0      0     0       1        3\n",
      "261          0      0     0       1        3\n",
      "262          0      0     1       0        3\n",
      "263          0      0     0       1        3\n",
      "264          0      0     1       0        3\n",
      "\n",
      "[163 rows x 5 columns]\n",
      "{0: 1, 3: 2, 2: 5}\n",
      "2\n"
     ]
    }
   ],
   "source": [
    "# solution here\n",
    "from scipy.stats import entropy\n",
    "print(entropy([146/33,68/333,119/333],base=2))\n",
    "filtered_dataset = discrete_penguin_dataset.loc[discrete_penguin_dataset['Biscoe'] == 1]\n",
    "filtered_dataset=filtered_dataset.drop(columns=['Biscoe'])\n",
    "print(filtered_dataset)\n",
    "\n",
    "observations = {0:1,2:5,3:2}\n",
    "sort = {k: v for k, v in sorted(observations.items(), key=lambda item: item[1])}\n",
    "print(sort)\n",
    "print(list(sort)[-1])"
   ]
  },
  {
   "cell_type": "markdown",
   "metadata": {},
   "source": [
    "6. Create a function `id3` that runs the ID3 classification algorithm on a discrete dataset. It should have only one argument, the dataset.\n",
    "\n",
    "The function should return a dictionary with the following structure:\n",
    "```\n",
    "\"name of the root\" : {\n",
    "    \"total_entropy\" : the total entropy of the current dataset,\n",
    "    \"observations\" : a dictionary where the keys are the values of the target attribute and the values are the number of records having that value,\n",
    "    \"values\" : {\n",
    "        \"unique value 1 of the root feature\" : if the entropy is 0, we have a leaf node, which will contain the value of the target attribute; if not, we will have a similar dictionary where \"unique value 1\" will act as the root for the sub-tree\n",
    "        \"unique value 2 of the root feature\" : \n",
    "        ...\n",
    "        \"unique value n of the root feature\" :\n",
    "    }\n",
    "}\n",
    "```\n",
    "You have an example in [output_example_discrete.txt](data/output_example_discrete.txt) file.\n",
    "\n",
    "*Note*: \n",
    "- If the filtered dataset does not have any other features to evaluate, the leaf node will contain the value of the target attribute that has the highest frequency.\n",
    "- You can assume that the last column of the dataset will always be the target attribute.\n",
    "\n",
    "*Hint*: The algorithm should be recursive: for the current dataset, select the feature that brings the most information gain. Afterwards, filter the datasets based on the values of this feature and rerun id3 on the filtered dataset."
   ]
  },
  {
   "cell_type": "code",
   "execution_count": 86,
   "metadata": {},
   "outputs": [
    {
     "name": "stdout",
     "output_type": "stream",
     "text": [
      "{'Biscoe': {'observations': {1: 146, 2: 68, 3: 119},\n",
      "            'total_entropy': 1.5200835543530915,\n",
      "            'values': {1: {'Dream': {'observations': {1: 44, 3: 119},\n",
      "                                     'total_entropy': 0.8413765894845354,\n",
      "                                     'values': {0: {'Torgersen': {'observations': {1: 44,\n",
      "                                                                                   3: 119},\n",
      "                                                                  'total_entropy': 0.8413765894845354,\n",
      "                                                                  'values': {0: {'female': {'observations': {1: 44,\n",
      "                                                                                                             3: 119},\n",
      "                                                                                            'total_entropy': 0.8413765894845354,\n",
      "                                                                                            'values': {1: {'male': {'observations': {1: 22,\n",
      "                                                                                                                                     3: 58},\n",
      "                                                                                                                    'total_entropy': 0.8485481782946159,\n",
      "                                                                                                                    'values': {0: {'': {'observations': {1: 22,\n",
      "                                                                                                                                                         3: 58},\n",
      "                                                                                                                                        'total_entropy': 0.8485481782946159,\n",
      "                                                                                                                                        'values': {0.0: 3}}}}}}}}}}}}}}}}}}\n"
     ]
    }
   ],
   "source": [
    "\"\"\" def id3(dataset):\n",
    "    root = findRoot(dataset)\n",
    "    root_name = root[0]\n",
    "\n",
    "    branch = {}\n",
    "    tree = {}\n",
    "    observations = {}\n",
    "    species_vals = dataset.filter(items=['species'])\n",
    "    uv_species, c_species = np.unique(species_vals, return_counts = True)\n",
    "    p_species = []\n",
    "    for i in range(len(uv_species)):\n",
    "        observations[uv_species[i]] = c_species[i]\n",
    "        p_species.append(c_species[i]/sum(c_species))\n",
    "    branch = {}\n",
    "    branch['observations'] = observations\n",
    "    branch['total_entropy'] = calculate_entropy(p_species)\n",
    "    tree[root_name] = branch\n",
    "\n",
    "    if calculate_entropy(p_species) == 0 or root_name == '':\n",
    "        tree[root_name]['values'] = {0.0:list(observations.items())[-1][0]}\n",
    "        return tree\n",
    "    else:\n",
    "        vals_of_root = dataset.filter(items=[root[0]])\n",
    "        uv_root,c_root = np.unique(vals_of_root,return_counts=True)\n",
    "        print(tree)\n",
    "        for val in uv_root:\n",
    "            dataset = dataset.loc[dataset[root_name] == val]\n",
    "            dataset = dataset.drop(columns=[root_name])\n",
    "            tree[root_name]['values'] = {}\n",
    "            tree[root_name]['values'][val] = id3(dataset)\n",
    "    return tree \"\"\"\n",
    "pd.options.mode.chained_assignment = None \n",
    "import copy\n",
    "def idd3(dataset):\n",
    "    # we assume that the target attribute is the last column\n",
    "    root = findRoot(dataset) # the node we are calculationg this for\n",
    "    branch = {} # here will be stored {observations, total_entropy, values}\n",
    "    tree = {}\n",
    "    observations = {}\n",
    "    species_vals = dataset.filter(items=['species'])\n",
    "    uv_species, c_species = np.unique(species_vals, return_counts = True)\n",
    "    p_species = []\n",
    "    for i in range(len(uv_species)):\n",
    "        observations[uv_species[i]] = c_species[i]\n",
    "        p_species.append(c_species[i]/sum(c_species))\n",
    "    branch['observations'] = observations\n",
    "    branch['total_entropy'] = calculate_entropy(p_species)\n",
    "    tree[root] = branch\n",
    "    \n",
    "    if branch['total_entropy'] == 0 or root == '': # if we cant slice it anymore\n",
    "        max_val = 0\n",
    "        max_key = 0\n",
    "        for key in branch['observations']:\n",
    "            if branch['observations'][key] > max_val:\n",
    "                max_val = branch['observations'][key]\n",
    "                max_key = key\n",
    "        tree[root]['values'] = {0.0: max_key}\n",
    "        return tree\n",
    "    \n",
    "    else:\n",
    "        vals_of_root = dataset.filter(items=[root])\n",
    "        uv_root,c_root = np.unique(vals_of_root,return_counts=True)\n",
    "        for val in uv_root:\n",
    "            temp_dataset = dataset.loc[dataset[root] == val]\n",
    "            temp_dataset = temp_dataset.drop(columns=[root])\n",
    "            tree[root]['values'] = {}\n",
    "            tree[root]['values'][val] = idd3(temp_dataset) \n",
    " \n",
    "        \n",
    "    return tree\n",
    "id3_result = idd3(discrete_penguin_dataset)\n",
    "pprint(id3_result)\n"
   ]
  },
  {
   "cell_type": "markdown",
   "metadata": {},
   "source": [
    "7. Run the ID3 algorithm on the `discrete_penguin_dataset` and store the tree in the variable `id3_result`. Print the tree. For a better visualisation, you can use `pprint`."
   ]
  },
  {
   "cell_type": "code",
   "execution_count": 22,
   "metadata": {},
   "outputs": [
    {
     "ename": "NameError",
     "evalue": "name 'id3' is not defined",
     "output_type": "error",
     "traceback": [
      "\u001b[1;31m---------------------------------------------------------------------------\u001b[0m",
      "\u001b[1;31mNameError\u001b[0m                                 Traceback (most recent call last)",
      "Cell \u001b[1;32mIn [22], line 2\u001b[0m\n\u001b[0;32m      1\u001b[0m \u001b[39m# solution here\u001b[39;00m\n\u001b[1;32m----> 2\u001b[0m id3_result \u001b[39m=\u001b[39m id3(discrete_penguin_dataset)\n\u001b[0;32m      3\u001b[0m pprint(id3_result)\n",
      "\u001b[1;31mNameError\u001b[0m: name 'id3' is not defined"
     ]
    }
   ],
   "source": [
    "# solution here\n",
    "id3_result = id3(discrete_penguin_dataset)\n",
    "pprint(id3_result)"
   ]
  },
  {
   "cell_type": "markdown",
   "metadata": {},
   "source": [
    "8. Run the ID3 implemenation from `sklearn` and plot the decision tree. Compare the results. (*Hint*: `plt.subplots` has a parameter named `figsize` where you can control the width and the height of the plot; (15,10) should be enough.)"
   ]
  },
  {
   "cell_type": "code",
   "execution_count": null,
   "metadata": {},
   "outputs": [
    {
     "data": {
      "image/png": "[encoded data removed]",
      "text/plain": [
       "<Figure size 1500x1000 with 1 Axes>"
      ]
     },
     "metadata": {},
     "output_type": "display_data"
    }
   ],
   "source": [
    "# solution here\n",
    "from sklearn import tree\n",
    "import matplotlib.pyplot as plt\n",
    "X = discrete_penguin_dataset[['male', 'female', 'Biscoe', 'Torgersen','Dream']]\n",
    "y = discrete_penguin_dataset['species']\n",
    "dt = tree.DecisionTreeClassifier(criterion='entropy').fit(X,y)\n",
    "fig, ax = plt.subplots(figsize=(15, 10))\n",
    "f = tree.plot_tree(dt, ax=ax, fontsize=10, feature_names=X.columns)\n",
    "plt.show()"
   ]
  },
  {
   "cell_type": "markdown",
   "metadata": {},
   "source": [
    "9. Create the function `predict_discrete` that would predict the value of an instance using the output dictionary from the `id3` function. (*Hint*: you can check the class of an object using the `isinstance` function.)"
   ]
  },
  {
   "cell_type": "code",
   "execution_count": null,
   "metadata": {},
   "outputs": [],
   "source": [
    "def predict_discrete(tree, test_instance):\n",
    "    pass\n"
   ]
  },
  {
   "cell_type": "markdown",
   "metadata": {},
   "source": [
    "10. Predict the label for the first record from the dataset. (*Hint*: use the Pandas method `iloc`.)"
   ]
  },
  {
   "cell_type": "code",
   "execution_count": null,
   "metadata": {},
   "outputs": [],
   "source": [
    "# solution here"
   ]
  },
  {
   "cell_type": "markdown",
   "metadata": {},
   "source": [
    "11. Create the function `evaluate_discrete` that should return the accuracy of the model on a given set of records."
   ]
  },
  {
   "cell_type": "code",
   "execution_count": null,
   "metadata": {},
   "outputs": [],
   "source": [
    "def evaluate_discrete(tree, test_data):\n",
    "    pass"
   ]
  },
  {
   "cell_type": "markdown",
   "metadata": {},
   "source": [
    "12. Test the accuracy of the model on the whole penguin dataset."
   ]
  },
  {
   "cell_type": "code",
   "execution_count": null,
   "metadata": {},
   "outputs": [],
   "source": [
    "# solution here"
   ]
  },
  {
   "cell_type": "markdown",
   "metadata": {},
   "source": [
    "13. Is the accuracy of the model 100%? If yes, why? If no, why?"
   ]
  },
  {
   "cell_type": "markdown",
   "metadata": {},
   "source": [
    "*Answer here:*"
   ]
  },
  {
   "cell_type": "markdown",
   "metadata": {},
   "source": [
    "## IV. Decision Tree - the continuous case (3 points; bonus 0.1 points per week)"
   ]
  },
  {
   "cell_type": "markdown",
   "metadata": {},
   "source": [
    "*Note*: For this case all features will be treated as being continuous. Use the entire `penguin_dataset`!"
   ]
  },
  {
   "cell_type": "markdown",
   "metadata": {},
   "source": [
    "1. In order to include the continuous random variables in the decision trees, we need to discretise them. For that, we will use thresholds.\n",
    "\n",
    "A threshold will appear between two consecutive values of the same feature that have different labels (label = the value of the target attribute).\n",
    "\n",
    "Write a function `get_thresholds` that finds the thresholds for a continuous feature. The function takes three arguments: the dataset, the continuous feature and the target feature that contains the labels."
   ]
  },
  {
   "cell_type": "code",
   "execution_count": null,
   "metadata": {},
   "outputs": [],
   "source": [
    "def get_thresholds(dataset, feature, target_feature):\n",
    "    pass"
   ]
  },
  {
   "cell_type": "markdown",
   "metadata": {},
   "source": [
    "2. Find the thresholds for the attribute `flipper_length_mm`."
   ]
  },
  {
   "cell_type": "code",
   "execution_count": null,
   "metadata": {},
   "outputs": [],
   "source": [
    "# solution here"
   ]
  },
  {
   "cell_type": "markdown",
   "metadata": {},
   "source": [
    "3. Find the best threshold for the attribute `flipper_length_mm` using the information gain."
   ]
  },
  {
   "cell_type": "code",
   "execution_count": null,
   "metadata": {},
   "outputs": [],
   "source": [
    "# solution here"
   ]
  },
  {
   "cell_type": "markdown",
   "metadata": {},
   "source": [
    "4. Find the best feature and the best threshold to be used as root for the decision tree using the information gain."
   ]
  },
  {
   "cell_type": "code",
   "execution_count": null,
   "metadata": {},
   "outputs": [],
   "source": [
    "# solution here"
   ]
  },
  {
   "cell_type": "markdown",
   "metadata": {},
   "source": [
    "5. Let's suppose that the root node is \"flipper_length_mm\" and the threshold 206.5. Create the variable `filtered_dataset` that should store the sub-tree for `flipper_length_mm < 206.5`. Do not drop the column if there are any other thresholds for the same attribute."
   ]
  },
  {
   "cell_type": "code",
   "execution_count": null,
   "metadata": {},
   "outputs": [],
   "source": [
    "# solution here"
   ]
  },
  {
   "cell_type": "markdown",
   "metadata": {},
   "source": [
    "6. Create a function `id3_continuous` that runs the ID3 algorithm for the continuous case.\n",
    "\n",
    "The output dictionary should have the same structure, with the following differences:\n",
    "- the name of the root and of the internal nodes will not be just `feature name`, but `feature_name<threshold_value`.\n",
    "- the keys of the \"values\" dictionary will be just \"YES\" (when the condition `feature<threshold` is met) and \"NO\" (otherwise)\n",
    "\n",
    "You have an example in [output_example_continuous.txt](data/output_example_continuous.txt) file.\n",
    "\n",
    "\n",
    "*Notes*: \n",
    "- Do NOT delete the chosen attribute if it has more than one threshold."
   ]
  },
  {
   "cell_type": "code",
   "execution_count": null,
   "metadata": {},
   "outputs": [],
   "source": [
    "def id3_continuous(dataset):\n",
    "    # we assume that the target attribute is the last column\n",
    "    pass"
   ]
  },
  {
   "cell_type": "markdown",
   "metadata": {},
   "source": [
    "7. Run the continuous version of ID3 algorithm on the `penguin_dataset` and store the tree in the variable `id3_continuous_result`. Print the tree. For a better visualisation, you can use `pprint`."
   ]
  },
  {
   "cell_type": "code",
   "execution_count": null,
   "metadata": {},
   "outputs": [],
   "source": [
    "# solution here"
   ]
  },
  {
   "cell_type": "markdown",
   "metadata": {},
   "source": [
    "8. Run the ID3 implemenation from `sklearn` and plot the decision tree. Compare the results. (*Hint*: `plt.subplots` has a parameter named `figsize` where you can control the width and the height of the plot; (25,10) should be enough.)"
   ]
  },
  {
   "cell_type": "code",
   "execution_count": null,
   "metadata": {},
   "outputs": [],
   "source": [
    "# solution here"
   ]
  },
  {
   "cell_type": "markdown",
   "metadata": {},
   "source": [
    "9. Create the function `predict_continuous` that would predict the value of an instance using the output dictionary from the `id3` function. (*Hint*: the `split` method separates a string by a character)"
   ]
  },
  {
   "cell_type": "code",
   "execution_count": null,
   "metadata": {},
   "outputs": [],
   "source": [
    "def predict_continuous(tree, test_instance):\n",
    "    pass"
   ]
  },
  {
   "cell_type": "markdown",
   "metadata": {},
   "source": [
    "10. Predict the label for the first record from the dataset."
   ]
  },
  {
   "cell_type": "code",
   "execution_count": null,
   "metadata": {},
   "outputs": [],
   "source": [
    "# solution here"
   ]
  },
  {
   "cell_type": "markdown",
   "metadata": {},
   "source": [
    "11. Create the function `evaluate_continuous` that should return the accuracy of the model on a given set of records."
   ]
  },
  {
   "cell_type": "code",
   "execution_count": null,
   "metadata": {},
   "outputs": [],
   "source": [
    "def evaluate_continuous(tree, test_data):\n",
    "    pass"
   ]
  },
  {
   "cell_type": "markdown",
   "metadata": {},
   "source": [
    "12. Test the accuracy of the model on the whole penguin dataset."
   ]
  },
  {
   "cell_type": "code",
   "execution_count": null,
   "metadata": {},
   "outputs": [],
   "source": [
    "# solution here"
   ]
  },
  {
   "cell_type": "markdown",
   "metadata": {},
   "source": [
    "13. Modify the `id3_continuous` function so it will allow pruning. (*Hint*: use a second parameter, `max_depth` to control the number of tree levels,)"
   ]
  },
  {
   "cell_type": "code",
   "execution_count": null,
   "metadata": {},
   "outputs": [],
   "source": [
    "def id3_continuous(dataset, max_depth = -1):\n",
    "    # we assume that the target attribute is the last column\n",
    "    pass"
   ]
  },
  {
   "cell_type": "markdown",
   "metadata": {},
   "source": [
    "14. Apply the prunned version of ID3 (using the custom and the `sklearn` implementation) with `max_depth = 2`. Compare the results."
   ]
  },
  {
   "cell_type": "code",
   "execution_count": null,
   "metadata": {},
   "outputs": [],
   "source": [
    "# solution here"
   ]
  },
  {
   "cell_type": "markdown",
   "metadata": {},
   "source": [
    "# Points grading\n",
    "\n",
    "| Section | Exercise | Points |\n",
    "| --- | --- | --- |\n",
    "| I | 1 | 0.2 |\n",
    "| I | 2 | 0.2 |\n",
    "| I | 3 | 0.2 |\n",
    "| I | 4 | 0.2 |\n",
    "| I | 5 | 0.2 |\n",
    "| II | 1 | 0.4 |\n",
    "| II | 2 | 0.1 |\n",
    "| II | 3 | 0.4 |\n",
    "| II | 4 | 0.1 |\n",
    "| II | 5 | 0.7 |\n",
    "| II | 6 | 0.5 |\n",
    "| II | 7 | 0.1 |\n",
    "| II | 8 | 0.2 |\n",
    "| III | 1 | 0.1 |\n",
    "| III | 2 | 0.2 |\n",
    "| III | 3 | 0.1 |\n",
    "| III | 4 | 0.3 |\n",
    "| III | 5 | 0.1 |\n",
    "| III | 6 | 1.3 |\n",
    "| III | 7 | 0.1 |\n",
    "| III | 8 | 0.5 |\n",
    "| III | 9 | 0.3 |\n",
    "| III | 10 | 0.1 |\n",
    "| III | 11 | 0.1 |\n",
    "| III | 12 | 0.1 |\n",
    "| III | 13 | 0.2 |\n",
    "| IV | 1 | 0.5 |\n",
    "| IV | 2 | 0.1 |\n",
    "| IV | 3 | 0.15 |\n",
    "| IV | 4 | 0. 2 |\n",
    "| IV | 5 | 0. 05 |\n",
    "| IV| 6 | 0.5 |\n",
    "| IV | 7 | 0.1 |\n",
    "| IV | 8 | 0.3 |\n",
    "| IV | 9 | 0.3 |\n",
    "| IV | 10 | 0.1 |\n",
    "| IV | 11 | 0.1 |\n",
    "| IV | 12 | 0.1 |\n",
    "| IV | 13 | 0.3 |\n",
    "| IV | 14 | 0.2 |\n"
   ]
  }
 ],
 "metadata": {
  "kernelspec": {
   "display_name": "Python 3.10.4 64-bit",
   "language": "python",
   "name": "python3"
  },
  "language_info": {
   "codemirror_mode": {
    "name": "ipython",
    "version": 3
   },
   "file_extension": ".py",
   "mimetype": "text/x-python",
   "name": "python",
   "nbconvert_exporter": "python",
   "pygments_lexer": "ipython3",
   "version": "3.10.4"
  },
  "orig_nbformat": 4,
  "vscode": {
   "interpreter": {
    "hash": "369f2c481f4da34e4445cda3fffd2e751bd1c4d706f27375911949ba6bb62e1c"
   }
  }
 },
 "nbformat": 4,
 "nbformat_minor": 2
}
