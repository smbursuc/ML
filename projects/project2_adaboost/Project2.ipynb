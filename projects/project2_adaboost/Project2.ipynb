{
 "cells": [
  {
   "cell_type": "markdown",
   "metadata": {},
   "source": [
    "# Project 2 - Machine Learning, Fall 2022\n",
    "\n",
    "Deadline: 11th of December 2022, 23:59\n",
    "\n",
    "To do this project you have to complete this Jupyter notebook and send it via Discord.\n",
    "\n",
    "The total number of points allocated for this project is 10.\n",
    "\n",
    "You will need the following modules to solve the tasks:"
   ]
  },
  {
   "cell_type": "code",
   "execution_count": 42,
   "metadata": {},
   "outputs": [],
   "source": [
    "import math\n",
    "from pprint import pprint\n",
    "\n",
    "import matplotlib.pyplot as plt\n",
    "import numpy as np\n",
    "import pandas as pd\n",
    "from sklearn.neighbors import KNeighborsClassifier\n",
    "from sklearn.ensemble import AdaBoostClassifier\n",
    "from itertools import product"
   ]
  },
  {
   "cell_type": "code",
   "execution_count": 43,
   "metadata": {},
   "outputs": [
    {
     "name": "stdout",
     "output_type": "stream",
     "text": [
      "   sex  island  bill_length_mm  bill_depth_mm  flipper_length_mm  body_mass_g  \\\n",
      "0    0       2            39.1           18.7              181.0       3750.0   \n",
      "1    1       2            39.5           17.4              186.0       3800.0   \n",
      "2    1       2            40.3           18.0              195.0       3250.0   \n",
      "3    1       2            36.7           19.3              193.0       3450.0   \n",
      "4    0       2            39.3           20.6              190.0       3650.0   \n",
      "\n",
      "   species  \n",
      "0        1  \n",
      "1        1  \n",
      "2        1  \n",
      "3        1  \n",
      "4        1  \n",
      "   sex  island  species\n",
      "0    0       2        1\n",
      "1    1       2        1\n",
      "2    1       2        1\n",
      "3    1       2        1\n",
      "4    0       2        1\n"
     ]
    }
   ],
   "source": [
    "penguin_dataset = pd.read_csv(\"data/penguins_filtered.csv\")\n",
    "\n",
    "penguin_dataset = penguin_dataset.replace({\n",
    "    \"Adelie\": 1,\n",
    "    \"Chinstrap\" : 2,\n",
    "    \"Gentoo\": 3,\n",
    "    \"male\" : 0,\n",
    "    \"female\" : 1,\n",
    "    \"Biscoe\" : 0,\n",
    "    \"Dream\" : 1,\n",
    "    \"Torgersen\" : 2})\n",
    "\n",
    "discrete_penguin_dataset = penguin_dataset[[\"sex\", \"island\", \"species\"]]\n",
    "print(penguin_dataset.head())\n",
    "print(discrete_penguin_dataset.head())"
   ]
  },
  {
   "cell_type": "markdown",
   "metadata": {},
   "source": [
    "## I. Naive and Joint Bayes (3.5 points; 0.15 bonus per week)"
   ]
  },
  {
   "cell_type": "markdown",
   "metadata": {},
   "source": [
    "*Note*: Be careful at what Naive Bayes class you use from `sklearn`."
   ]
  },
  {
   "cell_type": "markdown",
   "metadata": {},
   "source": [
    "1. Calculate the prior probabilities for the target feature. Transform them by applying the natural logarithm. "
   ]
  },
  {
   "cell_type": "code",
   "execution_count": 44,
   "metadata": {},
   "outputs": [],
   "source": [
    "# solution here"
   ]
  },
  {
   "cell_type": "markdown",
   "metadata": {},
   "source": [
    "2. Write the formulas used to calculate the maximum aposteriori probability using Naive Bayes and Joint Bayes. Use the names of the variables from the discrete penguin dataset."
   ]
  },
  {
   "cell_type": "markdown",
   "metadata": {},
   "source": [
    "*Answer here*:"
   ]
  },
  {
   "cell_type": "markdown",
   "metadata": {},
   "source": [
    "3. Find and calculate the logarithm of all the conditional probabilities (also names likelihoods) used to predict the label for the instance `{\"sex\" : 1, \"island\" : 2}` in Naive Bayes."
   ]
  },
  {
   "cell_type": "code",
   "execution_count": 45,
   "metadata": {},
   "outputs": [],
   "source": [
    "# solution here"
   ]
  },
  {
   "cell_type": "markdown",
   "metadata": {},
   "source": [
    "4. Why does the results contain infinity? Fix the calculation by using the Laplace Smoothing with `alpha = 1`."
   ]
  },
  {
   "cell_type": "code",
   "execution_count": 46,
   "metadata": {},
   "outputs": [],
   "source": [
    "# solution here"
   ]
  },
  {
   "cell_type": "markdown",
   "metadata": {},
   "source": [
    "5. Calculate the aposteriori probabilities of the labels and decide which label will Naive Bayes predict for the instance. Use only the logarithm values."
   ]
  },
  {
   "cell_type": "code",
   "execution_count": 47,
   "metadata": {},
   "outputs": [],
   "source": [
    "# solution here"
   ]
  },
  {
   "cell_type": "markdown",
   "metadata": {},
   "source": [
    "6. **Naive Bayes implemenation**: write a function called `naive_bayes` that takes three arguments:\n",
    "- `df`: the dataframe which will be used for training\n",
    "- `index_target`: the index of the column associated with the target feature\n",
    "- `alpha`: the parameter used for Laplace Smoothing\n",
    "\n",
    "The function should return a dictionary with the following fields:\n",
    "- `log_prior`: the logarithmic values of the prior probabilities (the probability of the labels)\n",
    "- `log_likelihoods`: a n x m x t array, where n - the number of features; m - the number of labels; t - the number of values for a feature; this array will contain the logarithmic values of the likelihoods (P(feature = value | target_feature = label))\n",
    "- `n_classes`: the number of labels\n",
    "- `n_feature_classes`: a vector that contains the number of unique values for each attribute\n",
    "- `classes`: the name of the labels (the values of the target feature)."
   ]
  },
  {
   "cell_type": "code",
   "execution_count": 48,
   "metadata": {},
   "outputs": [],
   "source": [
    "def naive_bayes(df, index_target = -1, alpha = 1e-10):\n",
    "    pass "
   ]
  },
  {
   "cell_type": "markdown",
   "metadata": {},
   "source": [
    "7. Train the discrete penguin dataset using your version of Naive Bayes and sklearn's. Compare the values of the parameters.(Be careful at what type of Naive Bayes classifier you pick from sklearn!)"
   ]
  },
  {
   "cell_type": "code",
   "execution_count": 49,
   "metadata": {},
   "outputs": [],
   "source": [
    "# solution here"
   ]
  },
  {
   "cell_type": "markdown",
   "metadata": {},
   "source": [
    "8. Create a function named `nb_predict_prob` that uses the log probabilities calculated by Naive Bayes to infer the aposteriori probability of a new instance `X`."
   ]
  },
  {
   "cell_type": "code",
   "execution_count": 50,
   "metadata": {},
   "outputs": [],
   "source": [
    "def nb_predict_prob(nb_dict, X, use_log = False):\n",
    "    pass"
   ]
  },
  {
   "cell_type": "markdown",
   "metadata": {},
   "source": [
    "9. Create a function that does the Naive Bayes prediction using the Maximum Aposteriori Probability."
   ]
  },
  {
   "cell_type": "code",
   "execution_count": 51,
   "metadata": {},
   "outputs": [],
   "source": [
    "def nb_predict(nb_dict, X):\n",
    "    pass"
   ]
  },
  {
   "cell_type": "markdown",
   "metadata": {},
   "source": [
    "10. Create a function that calculate the accuracy of the trained model on a set of instances `X` with known labels `y`."
   ]
  },
  {
   "cell_type": "code",
   "execution_count": 52,
   "metadata": {},
   "outputs": [],
   "source": [
    "def nb_score(nb_dict, X, y):\n",
    "    pass"
   ]
  },
  {
   "cell_type": "markdown",
   "metadata": {},
   "source": [
    "11. Calculate the training accuracy of your Naive Bayes algorithm. Explain the results."
   ]
  },
  {
   "cell_type": "code",
   "execution_count": 53,
   "metadata": {},
   "outputs": [],
   "source": [
    "# solution here"
   ]
  },
  {
   "cell_type": "markdown",
   "metadata": {},
   "source": [
    "12. Find and calculate all the conditional probabilities (also names likelihoods) used to predict the label for the instance `{\"sex\" : 1, \"island\" : 2}` in Joint Bayes. (*Hint*: panda's query function might provide itself useful.)"
   ]
  },
  {
   "cell_type": "code",
   "execution_count": 54,
   "metadata": {},
   "outputs": [],
   "source": [
    "# solution here"
   ]
  },
  {
   "cell_type": "markdown",
   "metadata": {},
   "source": [
    "13. Calculate the aposteriori probabilities of the labels and decide which label will Joint Bayes predict for the instance. Use the conditional and prior probabilities (*not* the logarithmic values)."
   ]
  },
  {
   "cell_type": "code",
   "execution_count": 55,
   "metadata": {},
   "outputs": [],
   "source": [
    "# solution here"
   ]
  },
  {
   "cell_type": "markdown",
   "metadata": {},
   "source": [
    "14. **Joint Bayes implemenation**: write a function called `joint_bayes` that takes two arguments:\n",
    "- `df`: the dataframe which will be used for training\n",
    "- `index_target`: the index of the column associated with the target feature\n",
    "\n",
    "The function should return a dictionary with the following fields:\n",
    "- `prior_probs`: the prior probabilities (the probability of the labels)\n",
    "- `likelihoods`: a n x m array, where n - the number of labels; m - the number of combination between the values of the features; each label will have assigned a list containing the joint probability P(feature_1 = value_1, feature_2 = value_2, ...,  feature_n = value_n | target_feature = label)\n",
    "- `n_classes`: the number of labels\n",
    "- `n_feature_classes`: a vector that contains the number of unique values for each attribute\n",
    "- `classes`: the name of the labels (the values of the target feature).\n",
    "\n",
    "*Hint*: check the imports from the first cell of this notebook."
   ]
  },
  {
   "cell_type": "code",
   "execution_count": 56,
   "metadata": {},
   "outputs": [],
   "source": [
    "def joint_bayes(df, index_target = -1):\n",
    "    pass"
   ]
  },
  {
   "cell_type": "markdown",
   "metadata": {},
   "source": [
    "15. Train the Joint Bayes algorithm on the discrete penguin dataset. Print the obtained dictionary."
   ]
  },
  {
   "cell_type": "code",
   "execution_count": 57,
   "metadata": {},
   "outputs": [],
   "source": [
    "# solution here"
   ]
  },
  {
   "cell_type": "markdown",
   "metadata": {},
   "source": [
    "16. Similarly to Naive Bayes, write the functions used to predict the aposteriori probabilities, the label and the accuracy of the Joint Bayes algorithm."
   ]
  },
  {
   "cell_type": "code",
   "execution_count": 58,
   "metadata": {},
   "outputs": [],
   "source": [
    "def jb_predict_prob(jb_dict, X):\n",
    "    pass\n",
    "\n",
    "def jb_predict(jb_dict, X):\n",
    "    pass\n",
    "\n",
    "def jb_score(jb_dict, X, y):\n",
    "    pass"
   ]
  },
  {
   "cell_type": "markdown",
   "metadata": {},
   "source": [
    "\n",
    "17. Calculate the training accuracy of your Joint Bayes algorithm. "
   ]
  },
  {
   "cell_type": "code",
   "execution_count": 59,
   "metadata": {},
   "outputs": [],
   "source": [
    "# solution here"
   ]
  },
  {
   "cell_type": "markdown",
   "metadata": {},
   "source": [
    "## II. kNN (2 points; 0.15 bonus per week)"
   ]
  },
  {
   "cell_type": "markdown",
   "metadata": {},
   "source": [
    "For this section we will use the entire `penguin_dataset`."
   ]
  },
  {
   "cell_type": "markdown",
   "metadata": {},
   "source": [
    "1. Calculate the Euclidean distance between the test instance `{\"sex\" : 1, \"island\" : 2, \"bill_length\" : 20, \"bill_depth\" : 40, \"flipper_length\" : 355, \"body_mass\" : 855}` and the instances from the dataset. Store the values in an object called `instance_distance`. Print the average distance. (*Hint*: check the norm function from the numpy package.)"
   ]
  },
  {
   "cell_type": "code",
   "execution_count": 60,
   "metadata": {},
   "outputs": [],
   "source": [
    "# solution here"
   ]
  },
  {
   "cell_type": "markdown",
   "metadata": {},
   "source": [
    "2. Find the `5` nearest neighbours of the test instance."
   ]
  },
  {
   "cell_type": "code",
   "execution_count": 61,
   "metadata": {},
   "outputs": [],
   "source": [
    "# solution here"
   ]
  },
  {
   "cell_type": "markdown",
   "metadata": {},
   "source": [
    "3. Determine the probabilities of the labels that kNN would assign for this test instance (`k = 5`). Which label has the highest probability?"
   ]
  },
  {
   "cell_type": "code",
   "execution_count": 62,
   "metadata": {},
   "outputs": [],
   "source": [
    "# solution here"
   ]
  },
  {
   "cell_type": "markdown",
   "metadata": {},
   "source": [
    "4. Suppose that kNN gives for each neighbour a weight that is equal to the inverse of the distance. Print the changed probabilities, as well as the label predicted by kNN."
   ]
  },
  {
   "cell_type": "code",
   "execution_count": 63,
   "metadata": {},
   "outputs": [],
   "source": [
    "# solution here"
   ]
  },
  {
   "cell_type": "markdown",
   "metadata": {},
   "source": [
    "5. **k-NN implementation**: Create a function `knn_predict_prob` that will take six arguments:\n",
    "- `df`: the dataframe containing the features and the target feature\n",
    "- `test_x`: a list with the attributes observed for *one* instance\n",
    "- `k`: the number of nearest neighbours\n",
    "- `use_weights`: boolean value that indicates whether to assign weights based on the inverse of the distance or not\n",
    "- `p`: either an integer, indicating the order of the Minkowski distance (p=2 is the equivalent for Euclidean) or a custom distance function\n",
    "- `index_target`: the index of the column that contains the labels of the target feature\n",
    "\n",
    "The function should:\n",
    "- calculate the distance between `test_x` and the observations from the dataset\n",
    "- extract the k-nearest neighbours\n",
    "- calculate the weight for each label\n",
    "- normalize the weights to become probabilities\n",
    "- return the probability vector, that will indicate the probability of the instance `test_x` to have the label `i`."
   ]
  },
  {
   "cell_type": "code",
   "execution_count": 64,
   "metadata": {},
   "outputs": [],
   "source": [
    "def knn_predict_prob(df, test_x, k, use_weights = True, p = 2, index_target = -1):\n",
    "   pass"
   ]
  },
  {
   "cell_type": "markdown",
   "metadata": {},
   "source": [
    "6. Write a function that, based on the probabilities calculated above, returns the label with the highest probability."
   ]
  },
  {
   "cell_type": "code",
   "execution_count": 65,
   "metadata": {},
   "outputs": [],
   "source": [
    "def knn_predict(df, test_x, k, use_weights = True, p = 2, index_target = -1):\n",
    "    pass"
   ]
  },
  {
   "cell_type": "markdown",
   "metadata": {},
   "source": [
    "7. Calculate the probabilities and the predicted label for the instance from exercise 1 using the following configurations:\n",
    "- `k = 11, unweighted, Euclidean distance`\n",
    "- `k = 11, weighted, Euclidean distance`\n",
    "- `k = 11, unweighted, Manhattan distance`\n",
    "- `k = 11, weighted, Manhattan distance`\n",
    "\n",
    "Compare your results with the results obtained by the `sklearn` implementation."
   ]
  },
  {
   "cell_type": "code",
   "execution_count": 66,
   "metadata": {},
   "outputs": [],
   "source": [
    "# solution here"
   ]
  },
  {
   "cell_type": "markdown",
   "metadata": {},
   "source": [
    "8. Write a function that calculates the accuracy of the kNN algorithm."
   ]
  },
  {
   "cell_type": "code",
   "execution_count": 67,
   "metadata": {},
   "outputs": [],
   "source": [
    "def knn_score(df, test_x, test_y, k, use_weights = True, p = 2, index_target = -1):\n",
    "    pass"
   ]
  },
  {
   "cell_type": "markdown",
   "metadata": {},
   "source": [
    "9. What is the training accuracy of the unweighted kNN when k varies from 3 to 15? (use only odd numbers). Does adding the weight / changing the distance metric improve the score? Justify."
   ]
  },
  {
   "cell_type": "code",
   "execution_count": 68,
   "metadata": {},
   "outputs": [],
   "source": [
    "# solution here"
   ]
  },
  {
   "cell_type": "markdown",
   "metadata": {},
   "source": [
    "## III. AdaBoost (4.5 points; 0.5 bonus per week)"
   ]
  },
  {
   "cell_type": "markdown",
   "metadata": {},
   "source": [
    "*Notes*: \n",
    "- The results might differ from the sklearn implementation\n",
    "- we will use the definition from the Machine Learning course of a weak classifier, which linearly separates an attribute\n",
    "- we try to use classifiers that minimise the error, not the entropy, as ID3\n",
    "- for getting the thresholds / splitting points, check the implementation from the Project 1 (mine or yours, whatever works for you)\n",
    "- remember the usage of the external threshold\n",
    "- some exercises from the course's book contain useful tricks to reduce the number of calculation you make during an iteration\n",
    "- the following implementation is a generalisation (with respect to the number of labels) of the AdaBoost algorithm that was discussed at the course\n",
    "    - suppose the target feature `Y` has `n` labels (i.e. `y1`, `y2` ... `yn`)\n",
    "    - suppose you have a feature `X` and a threshold / splitting point `x`\n",
    "    - on the right side of the separator (so for `X > x`), we have `k1` points with label `y1`, `k2` points with label `y2` and so on\n",
    "    - the label that the weak classifier will predict for the surface `X > x` will be the one with the highest probabilities of the points\n",
    "    - in other words, the label will be $\\displaystyle \\argmax_{y \\in Val(Y)} \\sum_{point \\in X, point > x; \\;\\; label(point) = y} D_t(point)$\n",
    "    - we perform similar calculation for the left side of the separator\n",
    "    - in the end, we will get the two labels that the weak classifier will assign\n",
    "    - the error of the classifier will be the sum of the probabilities of the points that are misclasified\n",
    "- please truncate your results; use 7 decimals"
   ]
  },
  {
   "cell_type": "markdown",
   "metadata": {},
   "source": [
    "1. Create a numpy array named `D1` that contains the initial probability distribution of the points."
   ]
  },
  {
   "cell_type": "code",
   "execution_count": 69,
   "metadata": {},
   "outputs": [
    {
     "name": "stdout",
     "output_type": "stream",
     "text": [
      "[0.003003 0.003003 0.003003 0.003003 0.003003]\n"
     ]
    }
   ],
   "source": [
    "D1 = np.array([])\n",
    "for i in range(len(penguin_dataset.index)):\n",
    "    D1 = np.append(D1, 1/len(penguin_dataset.index))\n",
    "print(D1[:5])"
   ]
  },
  {
   "cell_type": "markdown",
   "metadata": {},
   "source": [
    "2. What is the number of the available weak estimators used in our version of AdaBoost? (include the external threshold)"
   ]
  },
  {
   "cell_type": "code",
   "execution_count": 70,
   "metadata": {},
   "outputs": [
    {
     "name": "stdout",
     "output_type": "stream",
     "text": [
      "sex [0.  0.5]\n",
      "island [0.  0.5 1.5]\n",
      "bill_length_mm [40.35 40.85 40.95 41.65 41.75 41.9  42.05 42.35 42.45 42.65 42.75 42.85\n",
      " 43.   43.15 43.25 43.45 43.55 44.05 44.25 45.15 45.25 45.35 45.45 45.55\n",
      " 45.65 45.75 45.95 46.05 46.15 46.25 46.35 46.45 46.55 46.65 46.75 46.85\n",
      " 46.95 47.1  47.45 47.55 47.65 47.95 48.15 48.45 48.55 48.9  49.05 49.15\n",
      " 49.25 49.35 49.45 49.55 49.65 49.75 49.85 49.95 50.05 50.15 50.25 50.35\n",
      " 50.45 50.55 50.65 50.75 50.85 51.05 51.2  51.35 51.45 51.6  52.05 52.15\n",
      " 52.35 52.6  53.1  53.45 54.25 55.45 55.85 56.95 58.8 ]\n",
      "bill_depth_mm [14.95 15.45 15.55 15.85 15.95 16.05 16.15 16.25 16.35 16.45 16.55 16.65\n",
      " 16.75 16.85 16.95 17.05 17.15 17.25 17.35 17.45 17.55 17.75 17.85 17.95\n",
      " 18.05 18.15 18.25 18.35 18.45 18.55 18.65 18.75 18.85 18.95 19.05 19.15\n",
      " 19.25 19.35 19.45 19.55 19.65 19.75 19.85 19.95 20.05 20.2  20.4  20.65\n",
      " 20.75 20.95]\n",
      "flipper_length_mm [176.5 177.  179.  180.5 181.5 184.5 185.5 186.5 187.5 188.5 189.5 190.5\n",
      " 191.5 192.5 193.5 194.5 195.5 196.5 197.5 198.5 199.5 200.5 201.5 202.5\n",
      " 204.  205.5 206.5 207.5 208.5 209.5 210.5 211.5 212.5]\n",
      "body_mass_g [2774.5 2775.  2875.  2912.5 3187.5 3225.  3262.5 3287.5 3312.5 3337.5\n",
      " 3375.  3412.5 3437.5 3462.5 3487.5 3512.5 3537.5 3562.5 3587.5 3612.5\n",
      " 3637.5 3662.5 3687.5 3712.5 3737.5 3762.5 3787.5 3812.5 3837.5 3862.5\n",
      " 3887.5 3925.  3962.5 3987.5 4025.  4062.5 4087.5 4125.  4175.  4225.\n",
      " 4287.5 4325.  4362.5 4387.5 4425.  4462.5 4487.5 4525.  4562.5 4587.5\n",
      " 4612.5 4637.5 4662.5 4687.5 4712.5 4737.5 4762.5 4787.5 4825. ]\n"
     ]
    }
   ],
   "source": [
    "def get_thresholds(dataset, feature, target_feature):\n",
    "    # sort the unique values of feature\n",
    "    # then check if two consecutive values have at least one different label\n",
    "    feature_values = dict()\n",
    "    unique_feature_values = np.sort(np.unique(dataset[feature]))\n",
    "    thresholds = []\n",
    "    for i in range(dataset.shape[0]):\n",
    "        current_value = dataset[feature].iloc[i]\n",
    "        current_target_value = dataset[target_feature].iloc[i]\n",
    "        if current_value in feature_values:\n",
    "            feature_values[current_value].add(current_target_value)\n",
    "        else:\n",
    "            feature_values[current_value] = {current_target_value}\n",
    "\n",
    "    for i in range(1, len(unique_feature_values)):\n",
    "        current_val = unique_feature_values[i]\n",
    "        prev_val = unique_feature_values[i-1]\n",
    "\n",
    "        if (len(feature_values[prev_val]) > 1 and len(feature_values[prev_val] & feature_values[current_val]) > 0) or \\\n",
    "            (len(feature_values[prev_val]) == 1 and len(feature_values[current_val] - feature_values[prev_val]) > 0):\n",
    "            thresholds.append((current_val + prev_val) / 2)\n",
    "    \n",
    "    return thresholds\n",
    "\n",
    "features = list(penguin_dataset.columns)\n",
    "features.remove(\"species\")\n",
    "\n",
    "feature_thresholds = dict()\n",
    "for feature in features:\n",
    "    thresholds = get_thresholds(penguin_dataset, feature, \"species\")\n",
    "    thresholds = np.insert(thresholds, 0, (thresholds[0]-1+thresholds[0])/2) # external threshold\n",
    "    feature_thresholds[feature] = thresholds\n",
    "    print(feature, thresholds)\n",
    "\n"
   ]
  },
  {
   "cell_type": "markdown",
   "metadata": {},
   "source": [
    "3. For the attribute `flipper_length_mm` and the threshold 206.5, find the sum of probabilities of the three species for both left and right side of the separator. (for example, on the right side we will have probability `a` for `species=1`, `b` for `species=2`, `c` for `species=3`)"
   ]
  },
  {
   "cell_type": "code",
   "execution_count": 71,
   "metadata": {},
   "outputs": [
    {
     "name": "stdout",
     "output_type": "stream",
     "text": [
      "[0.43243243243243246, 0.1891891891891892, 0.003003003003003003]\n",
      "[0.006006006006006006, 0.015015015015015015, 0.35435435435435436]\n"
     ]
    }
   ],
   "source": [
    "def get_probabilities(filtered_dataset, dataset, feature):\n",
    "    if len(filtered_dataset.index) == 0:\n",
    "        return [0, 0, 0]\n",
    "    feature_vals, feature_counts = np.unique(filtered_dataset[feature], return_counts=True)\n",
    "    p = []\n",
    "    for i in range(len(feature_vals)):\n",
    "        p.append(feature_counts[i] / len(dataset.index))\n",
    "    return p\n",
    "\n",
    "filtered_dataset_lt = penguin_dataset[penguin_dataset[\"flipper_length_mm\"] < 206.5]\n",
    "\n",
    "print(get_probabilities(filtered_dataset_lt, penguin_dataset, \"species\"))\n",
    "\n",
    "filtered_dataset_gt = penguin_dataset[penguin_dataset[\"flipper_length_mm\"] >= 206.5]\n",
    "\n",
    "print(get_probabilities(filtered_dataset_gt, penguin_dataset, \"species\"))\n",
    "\n",
    "# filtered_dataset_lt = penguin_dataset[penguin_dataset[\"flipper_length_mm\"] < 206.5]\n",
    "# filtered_dataset_gt = penguin_dataset[penguin_dataset[\"flipper_length_mm\"] >= 206.5]\n",
    "\n",
    "# sum_lt = (len(filtered_dataset_lt.index)*D1[0])/sum(D1)\n",
    "# sum_gt = (len(filtered_dataset_gt.index)*D1[0])/sum(D1)\n",
    "\n",
    "# print(\"< 206.5\",sum_lt)\n",
    "# print(\">= 206.5\",sum_gt)"
   ]
  },
  {
   "cell_type": "markdown",
   "metadata": {},
   "source": [
    "4. What is the label that the weak classifier will assign for the right side of the separator? But for the left side?"
   ]
  },
  {
   "cell_type": "code",
   "execution_count": 72,
   "metadata": {},
   "outputs": [
    {
     "name": "stdout",
     "output_type": "stream",
     "text": [
      "right side 3\n",
      "left side 1\n"
     ]
    }
   ],
   "source": [
    "print(\"right side\",np.argmax(get_probabilities(filtered_dataset_gt, penguin_dataset, \"species\")) + 1)\n",
    "print(\"left side\",np.argmax(get_probabilities(filtered_dataset_lt, penguin_dataset, \"species\")) + 1)"
   ]
  },
  {
   "cell_type": "markdown",
   "metadata": {},
   "source": [
    "5. What is the error of this weak classifier?"
   ]
  },
  {
   "cell_type": "code",
   "execution_count": 73,
   "metadata": {},
   "outputs": [
    {
     "name": "stdout",
     "output_type": "stream",
     "text": [
      "0.2132132132132132\n"
     ]
    }
   ],
   "source": [
    "wrong_lt = 0\n",
    "for index, row in filtered_dataset_lt.iterrows():\n",
    "    if row[\"species\"] != 1:\n",
    "        wrong_lt += 1\n",
    "\n",
    "wrong_gt = 0\n",
    "for index, row in filtered_dataset_gt.iterrows():\n",
    "    if row[\"species\"] != 3:\n",
    "        wrong_gt += 1\n",
    "\n",
    "print((wrong_gt + wrong_lt)/len(penguin_dataset.index))"
   ]
  },
  {
   "cell_type": "markdown",
   "metadata": {},
   "source": [
    "6. What is the label the weak classifier associated with the external split point will predict? What about its error?"
   ]
  },
  {
   "cell_type": "code",
   "execution_count": 74,
   "metadata": {},
   "outputs": [
    {
     "name": "stdout",
     "output_type": "stream",
     "text": [
      "right side 1\n",
      "0.6336336336336337\n"
     ]
    }
   ],
   "source": [
    "external_split_point = get_thresholds(penguin_dataset, \"flipper_length_mm\", \"species\")[0] # thresholdul extern e calculat in fata\n",
    "filtered_dataset_gt = penguin_dataset[penguin_dataset[\"flipper_length_mm\"] >= external_split_point]\n",
    "\n",
    "print(\"right side\",np.argmax(get_probabilities(filtered_dataset_gt, penguin_dataset, \"species\")) + 1)\n",
    "\n",
    "wrong_gt = 0\n",
    "for index, row in filtered_dataset_gt.iterrows():\n",
    "    if row[\"species\"] != 3:\n",
    "        wrong_gt += 1\n",
    "\n",
    "print((wrong_gt)/len(penguin_dataset.index))"
   ]
  },
  {
   "cell_type": "markdown",
   "metadata": {},
   "source": [
    "7. Write a function that calculates the error of a weak classifier. Test your function on the classifier mentioned in the previous exercises."
   ]
  },
  {
   "cell_type": "code",
   "execution_count": 75,
   "metadata": {},
   "outputs": [
    {
     "name": "stdout",
     "output_type": "stream",
     "text": [
      "(0.21321321321321177, (1, 3))\n"
     ]
    }
   ],
   "source": [
    "def get_probabilities_weighted(filtered_dataset, feature, probs):\n",
    "    if len(filtered_dataset.index) == 0:\n",
    "        return [0, 0, 0]\n",
    "    feature_dict = {}\n",
    "    feature_vals = np.unique(filtered_dataset[feature])\n",
    "    for i in range(len(feature_vals)):\n",
    "        feature_dict[feature_vals[i]] = 0\n",
    "    for i in range(len(filtered_dataset)):\n",
    "        filtered_dataset_row = filtered_dataset.iloc[i]\n",
    "        feature_dict[filtered_dataset_row[feature]] += probs[i]\n",
    "    p = []\n",
    "    for i in range(len(feature_vals)):\n",
    "        p.append(feature_dict[feature_vals[i]] / sum(probs))\n",
    "    return p\n",
    "\n",
    "def get_error_classifier(df, feature_index, threshold, target_feature, probs):\n",
    "\n",
    "    feature = df.columns[feature_index]\n",
    "    filtered_dataset_lt = df[df[feature] < threshold]\n",
    "    filtered_dataset_gt = df[df[feature] >= threshold]\n",
    "\n",
    "    lt_label = np.argmax(get_probabilities_weighted(filtered_dataset_lt, target_feature, probs)) + 1\n",
    "    gt_label = np.argmax(get_probabilities_weighted(filtered_dataset_gt, target_feature, probs)) + 1\n",
    "\n",
    "    wrong_lt = 0\n",
    "    for index, row in filtered_dataset_lt.iterrows():\n",
    "        if row[target_feature] != lt_label:\n",
    "            wrong_lt += probs[index]\n",
    "\n",
    "    wrong_gt = 0\n",
    "    for index, row in filtered_dataset_gt.iterrows():\n",
    "        if row[target_feature] != gt_label:\n",
    "            wrong_gt += probs[index]\n",
    "\n",
    "    return ((wrong_gt + wrong_lt)/sum(probs),(lt_label, gt_label))\n",
    "\n",
    "print(get_error_classifier(penguin_dataset, 4, 206.5, \"species\", D1))"
   ]
  },
  {
   "cell_type": "markdown",
   "metadata": {},
   "source": [
    "8. Write a function that identifies the weak estimator with the lowest error. Do not forget to include the external split point. What is the best weak estimator that will be chosen at the first iteration of AdaBoost?"
   ]
  },
  {
   "cell_type": "code",
   "execution_count": 76,
   "metadata": {},
   "outputs": [
    {
     "name": "stdout",
     "output_type": "stream",
     "text": [
      "(4, 206.5, (1, 3)) 0.21321321321321177\n"
     ]
    }
   ],
   "source": [
    "def get_best_weak_estimator(df, target_feature, current_probs):\n",
    "    features = list(df.columns)\n",
    "    features.remove(target_feature)\n",
    "    lowest_error = 99999999\n",
    "    best_feature = None\n",
    "    best_threshold = None\n",
    "    threshold_labels = None\n",
    "    for feature in features:\n",
    "        for threshold in feature_thresholds[feature]:\n",
    "            error_function = get_error_classifier(df, df.columns.get_loc(feature), threshold, target_feature, current_probs)\n",
    "            error = error_function[0]\n",
    "            if error < lowest_error:\n",
    "                lowest_error = error\n",
    "                best_feature = feature\n",
    "                best_threshold = threshold\n",
    "                threshold_labels = error_function[1]\n",
    "    # should return a tuple with two elements: the estimator (also a tuple with the index of the feature, the threshold, the label assigned in the left side, the label from the right side) and its error\n",
    "    return ((df.columns.get_loc(best_feature),best_threshold,threshold_labels), lowest_error)\n",
    "\n",
    "est1, eps1 = get_best_weak_estimator(penguin_dataset, \"species\", D1)\n",
    "print(est1, eps1)"
   ]
  },
  {
   "cell_type": "markdown",
   "metadata": {},
   "source": [
    "9. Calculate the weight `alpha_1` that AdaBoost will assign to this weak classifier."
   ]
  },
  {
   "cell_type": "code",
   "execution_count": 77,
   "metadata": {},
   "outputs": [
    {
     "name": "stdout",
     "output_type": "stream",
     "text": [
      "0.652832313359895\n"
     ]
    }
   ],
   "source": [
    "alpha_1 = 0.5 * np.log((1-eps1)/eps1)\n",
    "print(alpha_1)"
   ]
  },
  {
   "cell_type": "markdown",
   "metadata": {},
   "source": [
    "10. Update the probability distribution `D2` that will be used in the next iteration."
   ]
  },
  {
   "cell_type": "code",
   "execution_count": 78,
   "metadata": {},
   "outputs": [
    {
     "name": "stdout",
     "output_type": "stream",
     "text": [
      "0.21856541225910603\n",
      "0.0006563525893666841\n"
     ]
    }
   ],
   "source": [
    "D2 = np.array([])\n",
    "\n",
    "filtered_dataset_lt = penguin_dataset[penguin_dataset[\"flipper_length_mm\"] < 206.5]\n",
    "filtered_dataset_gt = penguin_dataset[penguin_dataset[\"flipper_length_mm\"] >= 206.5]\n",
    "\n",
    "for index, row in penguin_dataset.iterrows():\n",
    "    if index < len(filtered_dataset_lt.index):\n",
    "        if row[\"species\"] != est1[2][0]:\n",
    "            D2 = np.append(D2, D1[index] / 2*(1-eps1))\n",
    "        else:\n",
    "            D2 = np.append(D2, D1[index] / 2*eps1)\n",
    "    else:\n",
    "        if row[\"species\"] != est1[2][1]:\n",
    "            D2 = np.append(D2, D1[index] / 2*(1-eps1))\n",
    "        else:\n",
    "            D2 = np.append(D2, D1[index] / 2*eps1)\n",
    "\n",
    "print(sum(D2))\n",
    "print(np.mean(D2))"
   ]
  },
  {
   "cell_type": "markdown",
   "metadata": {},
   "source": [
    "11. Write a function that performs the update of the probability distribution. Test the function for the first iteration."
   ]
  },
  {
   "cell_type": "code",
   "execution_count": 79,
   "metadata": {},
   "outputs": [
    {
     "name": "stdout",
     "output_type": "stream",
     "text": [
      "333\n"
     ]
    }
   ],
   "source": [
    "def update_probs(df, estimator, target_feature, eps, current_probs):\n",
    "    D2 = np.array([])\n",
    "    feature = df.columns[estimator[0]]\n",
    "    threshold = estimator[1]\n",
    "    filtered_dataset_lt = df[df[feature] < threshold]\n",
    "    filtered_dataset_gt = df[df[feature] >= threshold]\n",
    "\n",
    "    for index, row in df.iterrows():\n",
    "        if index < len(filtered_dataset_lt.index):\n",
    "            if row[target_feature] != estimator[2][0]:\n",
    "                D2 = np.append(D2, current_probs[index] / 2*(1-eps))\n",
    "            else:\n",
    "                D2 = np.append(D2, current_probs[index] / 2*eps)\n",
    "        else:\n",
    "            if row[\"species\"] != estimator[2][1]:\n",
    "                D2 = np.append(D2, current_probs[index] / 2*(1-eps))\n",
    "            else:\n",
    "                D2 = np.append(D2, current_probs[index] / 2*eps)\n",
    "    \n",
    "    return D2\n",
    "\n",
    "print(np.sum(update_probs(penguin_dataset, est1, \"species\", eps1, D1) - D2 < 1e-7))"
   ]
  },
  {
   "cell_type": "markdown",
   "metadata": {},
   "source": [
    "12. Write a function that trains the AdaBoost algorithm on a dataset. The function should return five fields:\n",
    "- `estimators`: a list of the weak estimators\n",
    "- `estimators_error`: a list with the errors of the estimators\n",
    "- `estimators_weight`: a list with the weights assigned to each estimator\n",
    "- `n_iters`: the number of iterations\n",
    "- `features`: a list with the features used for training"
   ]
  },
  {
   "cell_type": "code",
   "execution_count": 80,
   "metadata": {},
   "outputs": [
    {
     "name": "stdout",
     "output_type": "stream",
     "text": [
      "([(4, 206.5, (1, 3)), (3, 16.45, (3, 2)), (4, 197.5, (1, 3)), (3, 16.45, (3, 2)), (4, 193.5, (1, 3))], array([0.21321321, 0.23885462, 0.18753756, 0.15217128, 0.12896683]), array([0.65283231, 0.57948465, 0.73304528, 0.85883595, 0.95506241]), 5, ['sex', 'island', 'bill_length_mm', 'bill_depth_mm', 'flipper_length_mm', 'body_mass_g'])\n"
     ]
    }
   ],
   "source": [
    "def adaboost(df, target_feature, n_iters):\n",
    "    D = np.array([])\n",
    "    for i in range(len(penguin_dataset.index)):\n",
    "        D = np.append(D, 1/len(penguin_dataset.index))\n",
    "\n",
    "    estimators = []\n",
    "    estimators_errors = np.array([])\n",
    "    estimators_weights = np.array([])\n",
    "    features = list(df.columns)\n",
    "    features.remove(target_feature)\n",
    "    for i in range(n_iters):\n",
    "        est1, eps1 = get_best_weak_estimator(df, target_feature, D)\n",
    "        alpha = 0.5 * np.log((1-eps1)/eps1)\n",
    "        D = update_probs(df, est1, target_feature, eps1, D)\n",
    "        estimators.append(est1)\n",
    "        estimators_errors = np.append(estimators_errors, eps1)\n",
    "        estimators_weights = np.append(estimators_weights, alpha)\n",
    "    return (estimators, estimators_errors, estimators_weights, n_iters, features)\n",
    "\n",
    "my_ab = adaboost(penguin_dataset, \"species\", 5)\n",
    "print(my_ab)"
   ]
  },
  {
   "cell_type": "markdown",
   "metadata": {},
   "source": [
    "13. Write a function that does the AdaBoost prediction of an instance."
   ]
  },
  {
   "cell_type": "code",
   "execution_count": 81,
   "metadata": {},
   "outputs": [
    {
     "data": {
      "text/plain": [
       "(1, 1)"
      ]
     },
     "execution_count": 81,
     "metadata": {},
     "output_type": "execute_result"
    }
   ],
   "source": [
    "def adaboost_predict(adaboost_model, X):\n",
    "    estimators, estimators_errors, estimators_weights, n_iters, features = adaboost_model\n",
    "    weights_dict = {}\n",
    "    weights_dict[1] = 0\n",
    "    weights_dict[2] = 0\n",
    "    weights_dict[3] = 0\n",
    "    for i in range(len(estimators)):\n",
    "        feature = features[estimators[i][0]]\n",
    "        threshold = estimators[i][1]\n",
    "        if float(X[feature]) < threshold:\n",
    "            weights_dict[estimators[i][2][0]] += estimators_weights[i]  \n",
    "        else:\n",
    "            weights_dict[estimators[i][2][1]] += estimators_weights[i]\n",
    "    predicted_val = max(weights_dict, key=weights_dict.get) \n",
    "    # p = []\n",
    "    # for key, value in weights_dict.items():\n",
    "    #     p.append(value/sum(weights_dict.values()))\n",
    "    # print(p)\n",
    "    return predicted_val\n",
    "        \n",
    "adaboost_predict(my_ab, penguin_dataset[penguin_dataset.columns[:-1]].iloc[0]), penguin_dataset[\"species\"][0]"
   ]
  },
  {
   "cell_type": "markdown",
   "metadata": {},
   "source": [
    "14. Write a function that calculates the accuracy of AdaBoost on a dataframe."
   ]
  },
  {
   "cell_type": "code",
   "execution_count": 84,
   "metadata": {},
   "outputs": [
    {
     "name": "stdout",
     "output_type": "stream",
     "text": [
      "0.7207207207207207\n",
      "0.972972972972973\n"
     ]
    }
   ],
   "source": [
    "def adaboost_score(adaboost_model, X, y):\n",
    "    wrong = 0\n",
    "    for i in range(len(X)):\n",
    "        if round(adaboost_predict(adaboost_model, X.iloc[[i]])) != y[i]:\n",
    "            wrong += 1\n",
    "    return (len(X) - wrong)/len(X)\n",
    "\n",
    "features = list(penguin_dataset.columns)\n",
    "features.remove(\"species\")\n",
    "print(adaboost_score(my_ab, penguin_dataset[features], penguin_dataset[\"species\"]))\n",
    "\n",
    "from sklearn.ensemble import AdaBoostClassifier\n",
    "features = list(penguin_dataset.columns)\n",
    "features.remove(\"species\")\n",
    "X = penguin_dataset[features]\n",
    "Y = penguin_dataset[\"species\"]\n",
    "ab = AdaBoostClassifier(algorithm=\"SAMME\", n_estimators=5).fit(X, Y)\n",
    "print(ab.score(X, Y))"
   ]
  },
  {
   "cell_type": "markdown",
   "metadata": {},
   "source": [
    "15. Draw a plot where you compare the evolution of accuracy of our implementation of AdaBoost and sklearn's. The number of iterations should vary between 1 and 30."
   ]
  },
  {
   "cell_type": "code",
   "execution_count": 89,
   "metadata": {},
   "outputs": [
    {
     "name": "stdout",
     "output_type": "stream",
     "text": [
      "[0.7867867867867868, 0.7207207207207207, 0.7237237237237237, 0.7777777777777778, 0.8438438438438438]\n",
      "[0.7867867867867868, 0.972972972972973, 0.9819819819819819, 0.993993993993994, 0.993993993993994]\n"
     ]
    },
    {
     "data": {
      "image/png": "[encoded data removed]",
      "text/plain": [
       "<Figure size 640x480 with 1 Axes>"
      ]
     },
     "metadata": {},
     "output_type": "display_data"
    }
   ],
   "source": [
    "iterations = [1,5, 10, 20, 30]\n",
    "my_scores = []\n",
    "sklearn_scores = []\n",
    "for i in iterations:\n",
    "    my_ab = adaboost(penguin_dataset, \"species\", i)\n",
    "    my_scores.append(adaboost_score(my_ab, penguin_dataset[features], penguin_dataset[\"species\"]))\n",
    "    ab = AdaBoostClassifier(algorithm=\"SAMME\", n_estimators=i).fit(X, Y)\n",
    "    sklearn_scores.append(ab.score(X, Y))\n",
    "\n",
    "import matplotlib.pyplot as plt\n",
    "print(my_scores)\n",
    "print(sklearn_scores)\n",
    "plt.plot(iterations, my_scores, label = \"my adaboost\")\n",
    "plt.plot(iterations, sklearn_scores, label = \"sklearn adaboost\")\n",
    "plt.legend()\n",
    "plt.show()"
   ]
  },
  {
   "cell_type": "markdown",
   "metadata": {},
   "source": [
    "# Exercise grading\n",
    "\n",
    "| Section | Exercise | Points |\n",
    "| --- | --- | --- |\n",
    "| I |\t1 | \t0.1 |\n",
    "| I |\t2 | \t0.1 |\n",
    "| I |\t3 | \t0.25 |\n",
    "| I |\t4 | \t0.25 |\n",
    "| I |\t5 | \t0.15 |\n",
    "| I |\t6 | \t0.65 |\n",
    "| I |\t7 | \t0.1 |\n",
    "| I |\t8 | \t0.25 |\n",
    "| I |\t9 | \t0.15 |\n",
    "| I |\t10 | \t0.1 |\n",
    "| I |\t11 | \t0.1 |\n",
    "| I |\t12 | \t0.1 |\n",
    "| I |\t13 | \t0.15 |\n",
    "| I |\t14 | \t0.65 |\n",
    "| I |\t15 | \t0.1 |\n",
    "| I |\t16 | \t0.2 |\n",
    "| I |\t17 | \t0.1 |\n",
    "|II | \t1 | \t0.2 |\n",
    "|II | \t2 | \t0.1 |\n",
    "|II | \t3 | \t0.15 |\n",
    "|II | \t4 | \t0.2 |\n",
    "|II | \t5 | \t0.72 |\n",
    "|II | \t6 | \t0.1 |\n",
    "|II | \t7 | \t0.28 |\n",
    "|II | \t8 | \t0.1 |\n",
    "|II | \t9 | \t0.15 |\n",
    "|III |  1 | 0.1 |\n",
    "|III |  2 | 0.2 |\n",
    "|III |  3 | 0.3 |\n",
    "|III |  4 | 0.15 |\n",
    "|III |  5 | 0.15 |\n",
    "|III |  6 | 0.3 |\n",
    "|III |  7 | 0.5 |\n",
    "|III |  8 | 0.4 |\n",
    "|III |  9 | 0.1 |\n",
    "|III |  10 | 0.5 |\n",
    "|III |  11 | 0.2 |\n",
    "|III |  12 | 1.1 |\n",
    "|III |  13 | 0.2 |\n",
    "|III |  14 | 0.1 |\n",
    "|III |  15 | 0.2 |\n"
   ]
  }
 ],
 "metadata": {
  "kernelspec": {
   "display_name": "Python 3.10.4 64-bit",
   "language": "python",
   "name": "python3"
  },
  "language_info": {
   "codemirror_mode": {
    "name": "ipython",
    "version": 3
   },
   "file_extension": ".py",
   "mimetype": "text/x-python",
   "name": "python",
   "nbconvert_exporter": "python",
   "pygments_lexer": "ipython3",
   "version": "3.10.4"
  },
  "orig_nbformat": 4,
  "vscode": {
   "interpreter": {
    "hash": "369f2c481f4da34e4445cda3fffd2e751bd1c4d706f27375911949ba6bb62e1c"
   }
  }
 },
 "nbformat": 4,
 "nbformat_minor": 2
}
