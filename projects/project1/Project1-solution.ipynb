{
 "cells": [
  {
   "cell_type": "markdown",
   "metadata": {},
   "source": [
    "# Project 1\n",
    "\n",
    "Deadline: 3rd of November 2022\n",
    "\n",
    "To do this project you have to complete this Jupyter notebook and send it via email or Discord.\n",
    "\n",
    "The total number of points allocated for this project is 10."
   ]
  },
  {
   "cell_type": "markdown",
   "metadata": {},
   "source": [
    "You will need the following modules to solve the tasks:"
   ]
  },
  {
   "cell_type": "code",
   "execution_count": 1,
   "metadata": {},
   "outputs": [],
   "source": [
    "import pandas as pd\n",
    "import math\n",
    "import numpy as np\n",
    "from pprint import pprint\n",
    "from sklearn.preprocessing import OneHotEncoder\n",
    "from sklearn import tree\n",
    "import matplotlib.pyplot as plt"
   ]
  },
  {
   "cell_type": "markdown",
   "metadata": {},
   "source": [
    "## I. Probabilities (1 point; 0.1 bonus points per week)"
   ]
  },
  {
   "cell_type": "markdown",
   "metadata": {},
   "source": [
    "Filter the initial penguin data"
   ]
  },
  {
   "cell_type": "code",
   "execution_count": 2,
   "metadata": {},
   "outputs": [],
   "source": [
    "def df_column_switch(df, column1, column2):\n",
    "    i = list(df.columns)\n",
    "    a, b = i.index(column1), i.index(column2)\n",
    "    i[b], i[a] = i[a], i[b]\n",
    "    df = df[i]\n",
    "    return df"
   ]
  },
  {
   "cell_type": "code",
   "execution_count": 3,
   "metadata": {},
   "outputs": [],
   "source": [
    "#df = pd.read_csv(\"data/penguins.csv\")\n",
    "#df = df.drop(columns = [df.columns[0], df.columns[-1]])\n",
    "#print(df.shape)\n",
    "#df = df.dropna()\n",
    "#print(df.shape)\n",
    "#df = df_column_switch(df, \"sex\", \"species\")\n",
    "#\n",
    "#df.to_csv(\"data/penguins_filtered.csv\", index = False)"
   ]
  },
  {
   "cell_type": "markdown",
   "metadata": {},
   "source": [
    "We will use the [penguin dataset](https://allisonhorst.github.io/palmerpenguins/articles/intro.html). The purpose is to predict the species of a penguin using multiple features such as its sex, weight, the habitant island etc."
   ]
  },
  {
   "cell_type": "code",
   "execution_count": 2,
   "metadata": {},
   "outputs": [
    {
     "data": {
      "text/html": [
       "<div>\n",
       "<style scoped>\n",
       "    .dataframe tbody tr th:only-of-type {\n",
       "        vertical-align: middle;\n",
       "    }\n",
       "\n",
       "    .dataframe tbody tr th {\n",
       "        vertical-align: top;\n",
       "    }\n",
       "\n",
       "    .dataframe thead th {\n",
       "        text-align: right;\n",
       "    }\n",
       "</style>\n",
       "<table border=\"1\" class=\"dataframe\">\n",
       "  <thead>\n",
       "    <tr style=\"text-align: right;\">\n",
       "      <th></th>\n",
       "      <th>sex</th>\n",
       "      <th>island</th>\n",
       "      <th>bill_length_mm</th>\n",
       "      <th>bill_depth_mm</th>\n",
       "      <th>flipper_length_mm</th>\n",
       "      <th>body_mass_g</th>\n",
       "      <th>species</th>\n",
       "    </tr>\n",
       "  </thead>\n",
       "  <tbody>\n",
       "    <tr>\n",
       "      <th>0</th>\n",
       "      <td>male</td>\n",
       "      <td>Torgersen</td>\n",
       "      <td>39.1</td>\n",
       "      <td>18.7</td>\n",
       "      <td>181.0</td>\n",
       "      <td>3750.0</td>\n",
       "      <td>Adelie</td>\n",
       "    </tr>\n",
       "    <tr>\n",
       "      <th>1</th>\n",
       "      <td>female</td>\n",
       "      <td>Torgersen</td>\n",
       "      <td>39.5</td>\n",
       "      <td>17.4</td>\n",
       "      <td>186.0</td>\n",
       "      <td>3800.0</td>\n",
       "      <td>Adelie</td>\n",
       "    </tr>\n",
       "    <tr>\n",
       "      <th>2</th>\n",
       "      <td>female</td>\n",
       "      <td>Torgersen</td>\n",
       "      <td>40.3</td>\n",
       "      <td>18.0</td>\n",
       "      <td>195.0</td>\n",
       "      <td>3250.0</td>\n",
       "      <td>Adelie</td>\n",
       "    </tr>\n",
       "    <tr>\n",
       "      <th>3</th>\n",
       "      <td>female</td>\n",
       "      <td>Torgersen</td>\n",
       "      <td>36.7</td>\n",
       "      <td>19.3</td>\n",
       "      <td>193.0</td>\n",
       "      <td>3450.0</td>\n",
       "      <td>Adelie</td>\n",
       "    </tr>\n",
       "    <tr>\n",
       "      <th>4</th>\n",
       "      <td>male</td>\n",
       "      <td>Torgersen</td>\n",
       "      <td>39.3</td>\n",
       "      <td>20.6</td>\n",
       "      <td>190.0</td>\n",
       "      <td>3650.0</td>\n",
       "      <td>Adelie</td>\n",
       "    </tr>\n",
       "  </tbody>\n",
       "</table>\n",
       "</div>"
      ],
      "text/plain": [
       "      sex     island  bill_length_mm  bill_depth_mm  flipper_length_mm  \\\n",
       "0    male  Torgersen            39.1           18.7              181.0   \n",
       "1  female  Torgersen            39.5           17.4              186.0   \n",
       "2  female  Torgersen            40.3           18.0              195.0   \n",
       "3  female  Torgersen            36.7           19.3              193.0   \n",
       "4    male  Torgersen            39.3           20.6              190.0   \n",
       "\n",
       "   body_mass_g species  \n",
       "0       3750.0  Adelie  \n",
       "1       3800.0  Adelie  \n",
       "2       3250.0  Adelie  \n",
       "3       3450.0  Adelie  \n",
       "4       3650.0  Adelie  "
      ]
     },
     "execution_count": 2,
     "metadata": {},
     "output_type": "execute_result"
    }
   ],
   "source": [
    "penguin_dataset = pd.read_csv(\"data/penguins_filtered.csv\")\n",
    "penguin_dataset.head()"
   ]
  },
  {
   "cell_type": "markdown",
   "metadata": {},
   "source": [
    "1. Create two variables, `species_values` and `island_values` that will store values of the two random variables \"Species\" and \"Island\". (*Hint*: `numpy.unique`)"
   ]
  },
  {
   "cell_type": "code",
   "execution_count": 5,
   "metadata": {},
   "outputs": [
    {
     "name": "stdout",
     "output_type": "stream",
     "text": [
      "['Adelie' 'Chinstrap' 'Gentoo']\n",
      "['Biscoe' 'Dream' 'Torgersen']\n"
     ]
    }
   ],
   "source": [
    "# solution here\n",
    "species_values = np.unique(penguin_dataset[\"species\"])\n",
    "island_values = np.unique(penguin_dataset[\"island\"])\n",
    "\n",
    "print(species_values)\n",
    "print(island_values)"
   ]
  },
  {
   "cell_type": "markdown",
   "metadata": {},
   "source": [
    "2. Calculate the PMF of the two random variables."
   ]
  },
  {
   "cell_type": "code",
   "execution_count": 6,
   "metadata": {},
   "outputs": [
    {
     "name": "stdout",
     "output_type": "stream",
     "text": [
      "{'Adelie': 0.43843843843843844, 'Chinstrap': 0.2042042042042042, 'Gentoo': 0.35735735735735735}\n",
      "{'Biscoe': 0.4894894894894895, 'Dream': 0.36936936936936937, 'Torgersen': 0.14114114114114115}\n"
     ]
    }
   ],
   "source": [
    "# solution here\n",
    "n_total_observations = penguin_dataset.shape[0]\n",
    "species_pmf = {val : sum(penguin_dataset[\"species\"] == val) / n_total_observations for val in species_values}\n",
    "island_pmf = {val : sum(penguin_dataset[\"island\"] == val) / n_total_observations for val in island_values}\n",
    "\n",
    "print(species_pmf)\n",
    "print(island_pmf)"
   ]
  },
  {
   "cell_type": "markdown",
   "metadata": {},
   "source": [
    "3. We know that $P(Species = Gentoo, Island = Dream) = 0.20$ and $P(Species = Gentoo, Island = Torgersen) = 0.05735735$. Knowing that the penguin is from the Biscoe island, what is the probability that its species is Gentoo? (*Hint*: the formula of conditional probability and the law of total probability for multiple events)"
   ]
  },
  {
   "cell_type": "code",
   "execution_count": 7,
   "metadata": {},
   "outputs": [
    {
     "name": "stdout",
     "output_type": "stream",
     "text": [
      "0.20429449355828216\n"
     ]
    }
   ],
   "source": [
    "# solution here\n",
    "p_gentoo_dream = 0.2\n",
    "p_gentoo_torgersen = 0.05735735\n",
    "\n",
    "# use the formula of conditional probability to get P(Gentoo|Dream) and P(Gentoo|Torgersen)\n",
    "cond_p_gentoo_dream = p_gentoo_dream / island_pmf[\"Dream\"]\n",
    "cond_p_gentoo_torgersen = p_gentoo_torgersen / island_pmf[\"Torgersen\"]\n",
    "\n",
    "# use the law of total probability to get P(Gentoo|Biscoe)\n",
    "cond_p_gentoo_biscoe = (species_pmf[\"Gentoo\"] - cond_p_gentoo_dream * island_pmf[\"Dream\"] - cond_p_gentoo_torgersen * island_pmf[\"Torgersen\"]) / island_pmf[\"Biscoe\"]\n",
    "print(cond_p_gentoo_biscoe)"
   ]
  },
  {
   "cell_type": "markdown",
   "metadata": {},
   "source": [
    "4. Calculate the average body mass of the penguins."
   ]
  },
  {
   "cell_type": "code",
   "execution_count": 8,
   "metadata": {},
   "outputs": [
    {
     "name": "stdout",
     "output_type": "stream",
     "text": [
      "4207.057057057057\n"
     ]
    }
   ],
   "source": [
    "# solution here\n",
    "average_body_mass = np.mean(penguin_dataset[\"body_mass_g\"])\n",
    "# sau\n",
    "# average_body_mass = sum(penguin_dataset[\"body_mass_g\"]) / len(penguin_dataset[\"body_mass_g\"])\n",
    "print(average_body_mass)"
   ]
  },
  {
   "cell_type": "markdown",
   "metadata": {},
   "source": [
    "5. Calculate the variance of the distribution of penguins body mass."
   ]
  },
  {
   "cell_type": "code",
   "execution_count": 9,
   "metadata": {},
   "outputs": [
    {
     "name": "stdout",
     "output_type": "stream",
     "text": [
      "646425.423170919\n",
      "646425.423170919\n"
     ]
    }
   ],
   "source": [
    "# solution here\n",
    "print(np.var(penguin_dataset[\"body_mass_g\"]))\n",
    "print(np.mean((penguin_dataset[\"body_mass_g\"] - average_body_mass)**2))"
   ]
  },
  {
   "cell_type": "markdown",
   "metadata": {},
   "source": [
    "## II. Entropy (2.5 points)"
   ]
  },
  {
   "cell_type": "markdown",
   "metadata": {},
   "source": [
    "1. Create a function, `generate_probabilities`, that will take the observations of a discrete random variable and create the vector of probabilities that describe the PMF."
   ]
  },
  {
   "cell_type": "code",
   "execution_count": 10,
   "metadata": {},
   "outputs": [],
   "source": [
    "\"\"\"\n",
    "Example: generate_probabilities([1,1,0,0,1,1,0,0,1,1]) should return [0.4, 0.6]\n",
    "0.4 indicates P(X=0) and 0.6 P(X=1)\n",
    "\n",
    "\"\"\"\n",
    "def generate_probabilities(observations):\n",
    "    values = np.unique(observations)\n",
    "    n_observations = len(observations)\n",
    "\n",
    "    return [len(np.where(observations == val)[0]) / n_observations for val in values]"
   ]
  },
  {
   "cell_type": "markdown",
   "metadata": {},
   "source": [
    "2. Create a variable `pmf_species` that will store the probabilities for the target attribute \"species\" from the penguin dataset using the function from ex.1. "
   ]
  },
  {
   "cell_type": "code",
   "execution_count": 11,
   "metadata": {},
   "outputs": [
    {
     "name": "stdout",
     "output_type": "stream",
     "text": [
      "[0.43843843843843844, 0.2042042042042042, 0.35735735735735735]\n"
     ]
    }
   ],
   "source": [
    "# solution here\n",
    "pmf_species = generate_probabilities(penguin_dataset[\"species\"])\n",
    "print(pmf_species)"
   ]
  },
  {
   "cell_type": "markdown",
   "metadata": {},
   "source": [
    "3. Create a function `calculate_entropy` that will take as argument the pmf of a discrete random variable and return its entropy. (*Hint*: use `math.log2` to calculate logarithms)"
   ]
  },
  {
   "cell_type": "code",
   "execution_count": 12,
   "metadata": {},
   "outputs": [],
   "source": [
    "# be careful at the cases where a probability is 0\n",
    "def calculate_entropy(probabilities):\n",
    "    log_zero = lambda x: 0 if x == 0 else math.log2(x)\n",
    "    return -sum(i*log_zero(i) for i in probabilities)"
   ]
  },
  {
   "cell_type": "markdown",
   "metadata": {},
   "source": [
    "4. Create a variable `total_entropy_species` that will store the entropy of the target attribute \"species\"."
   ]
  },
  {
   "cell_type": "code",
   "execution_count": 13,
   "metadata": {},
   "outputs": [
    {
     "name": "stdout",
     "output_type": "stream",
     "text": [
      "1.5200835543530913\n"
     ]
    }
   ],
   "source": [
    "# solution here\n",
    "total_entropy_species = calculate_entropy(pmf_species)\n",
    "print(total_entropy_species)"
   ]
  },
  {
   "cell_type": "markdown",
   "metadata": {},
   "source": [
    "5. Create a function `calculate_conditional_entropy` that will calculate the average conditionally entropy $H(X|Y)$. The function takes three arguments: the dataset containing the observations, the feature that describes the discrete random variable $Y$ and the feature that describes the discrete random variables $X$.\n",
    "\n",
    "*Hint*:\n",
    "- iterate through every unique value of Y; for each value you should\n",
    "    - calculate the probability of that value\n",
    "    - filter the dataset to keep only that value for Y\n",
    "    - calculate the specific conditional entropy $H(X|Y=val)$\n"
   ]
  },
  {
   "cell_type": "code",
   "execution_count": 14,
   "metadata": {},
   "outputs": [
    {
     "name": "stdout",
     "output_type": "stream",
     "text": [
      "0.692068871182391\n",
      "0.7782324648463257\n"
     ]
    }
   ],
   "source": [
    "def calculate_conditional_entropy(dataset, feature, target_feature):\n",
    "    n_observations = dataset.shape[0]\n",
    "    feature_values = np.unique(dataset[feature])\n",
    "    \n",
    "    result = 0\n",
    "    for feature_val in feature_values:\n",
    "        filtered_dataset = dataset[dataset[feature] == feature_val]\n",
    "        n_observations_value = filtered_dataset.shape[0]\n",
    "        prob_feature_val = n_observations_value / n_observations\n",
    "        \n",
    "        target_feature_probs = generate_probabilities(filtered_dataset[target_feature].to_numpy().flatten())\n",
    "        result += prob_feature_val * calculate_entropy(target_feature_probs)\n",
    "\n",
    "    return result\n",
    "\n",
    "print(calculate_conditional_entropy(penguin_dataset, \"species\", \"island\"))\n",
    "print(calculate_conditional_entropy(penguin_dataset, \"island\", \"species\"))"
   ]
  },
  {
   "cell_type": "markdown",
   "metadata": {},
   "source": [
    "6. Create a function `calculate_information_gain` that will calculate the information gain $IG(H;Y)$ using the its definition and the functions `calculate_entropy` and `calculate_conditional_entropy`. The arguments are the same as in the `calculate_conditional_entropy` function."
   ]
  },
  {
   "cell_type": "code",
   "execution_count": 15,
   "metadata": {},
   "outputs": [],
   "source": [
    "def calculate_information_gain(dataset, feature, target_feature):\n",
    "    target_probs = generate_probabilities(dataset[target_feature].to_numpy().flatten())\n",
    "    total_entropy = calculate_entropy(target_probs)\n",
    "    conditional_entropy = calculate_conditional_entropy(dataset, feature, target_feature)\n",
    "    \n",
    "    # print(conditional_entropy)\n",
    "    return total_entropy - conditional_entropy"
   ]
  },
  {
   "cell_type": "markdown",
   "metadata": {},
   "source": [
    "7. Calculate the information gains $IG(species;island)$ and $IG(species;sex)$."
   ]
  },
  {
   "cell_type": "code",
   "execution_count": 16,
   "metadata": {},
   "outputs": [
    {
     "name": "stdout",
     "output_type": "stream",
     "text": [
      "0.7418510895067656\n",
      "0.00010530129858543624\n",
      "0.00010530129858543624\n"
     ]
    }
   ],
   "source": [
    "# solution here\n",
    "print(calculate_information_gain(penguin_dataset, \"island\", \"species\"))\n",
    "print(calculate_information_gain(penguin_dataset, \"sex\", \"species\"))\n",
    "print(calculate_information_gain(penguin_dataset, \"species\", \"sex\"))"
   ]
  },
  {
   "cell_type": "markdown",
   "metadata": {},
   "source": [
    "8. Based on the results, which of the attributes \"sex\" and \"island\" achieve a more qualitative separation of the \"species\" target attribute?"
   ]
  },
  {
   "cell_type": "markdown",
   "metadata": {},
   "source": [
    "*Answer here: The information gain for the \"Island\" attribute is significantly higher than the \"Sex\" attribute (0.7418 vs 0.0001), so the first one should achieve a better separation of the \"Species\" target attribute.*"
   ]
  },
  {
   "cell_type": "markdown",
   "metadata": {},
   "source": [
    "## III. Decision Tree - the discrete case (3 points)"
   ]
  },
  {
   "cell_type": "markdown",
   "metadata": {},
   "source": [
    "1. Before running the ID3 algorihtm, we must quantify all the random variables. Quantify the \"Species\" target attribute using this following mapping: Adelie - 1, Chinstrap - 2, Gentoo - 3. (*Hint* check Panda's `replace` function.)"
   ]
  },
  {
   "cell_type": "code",
   "execution_count": 17,
   "metadata": {},
   "outputs": [],
   "source": [
    "#solution here\n",
    "penguin_dataset = penguin_dataset.replace({\"Adelie\": 1, \"Chinstrap\" : 2, \"Gentoo\": 3})"
   ]
  },
  {
   "cell_type": "markdown",
   "metadata": {},
   "source": [
    "2. Using OneHot Encoders, convert the features \"sex\" and \"island\" to numerical values. You should add the new columns at the beginning of the table and remove the old ones. (*Hint*: check Panda's `drop` method to remove a column.)"
   ]
  },
  {
   "cell_type": "code",
   "execution_count": 18,
   "metadata": {},
   "outputs": [],
   "source": [
    "# solution here\n",
    "# one-hot the island attribute\n",
    "cat_features = penguin_dataset[[\"island\"]] # Note that we're selecting a matrix\n",
    "enc = OneHotEncoder(sparse=False).fit(cat_features)\n",
    "X_transformed = pd.DataFrame(enc.transform(cat_features), \n",
    "                           columns=enc.categories_[0])\n",
    "penguin_dataset = pd.concat([X_transformed, penguin_dataset], axis = 1).drop(columns = \"island\")\n",
    "\n",
    "# one-hot the sex attribute\n",
    "cat_features = penguin_dataset[[\"sex\"]] # Note that we're selecting a matrix\n",
    "enc = OneHotEncoder(sparse=False).fit(cat_features)\n",
    "X_transformed = pd.DataFrame(enc.transform(cat_features), \n",
    "                           columns=enc.categories_[0])\n",
    "penguin_dataset = pd.concat([X_transformed, penguin_dataset], axis = 1).drop(columns = \"sex\")"
   ]
  },
  {
   "cell_type": "markdown",
   "metadata": {},
   "source": [
    "3. For this discrete case we need only the discrete features. Filter the pandas dataframe and keep only the discrete columns (there should 6 of them). Keep the filtered dataset in a new variable, named `discrete_penguin_dataset`."
   ]
  },
  {
   "cell_type": "code",
   "execution_count": 19,
   "metadata": {},
   "outputs": [
    {
     "data": {
      "text/html": [
       "<div>\n",
       "<style scoped>\n",
       "    .dataframe tbody tr th:only-of-type {\n",
       "        vertical-align: middle;\n",
       "    }\n",
       "\n",
       "    .dataframe tbody tr th {\n",
       "        vertical-align: top;\n",
       "    }\n",
       "\n",
       "    .dataframe thead th {\n",
       "        text-align: right;\n",
       "    }\n",
       "</style>\n",
       "<table border=\"1\" class=\"dataframe\">\n",
       "  <thead>\n",
       "    <tr style=\"text-align: right;\">\n",
       "      <th></th>\n",
       "      <th>female</th>\n",
       "      <th>male</th>\n",
       "      <th>Biscoe</th>\n",
       "      <th>Dream</th>\n",
       "      <th>Torgersen</th>\n",
       "      <th>species</th>\n",
       "    </tr>\n",
       "  </thead>\n",
       "  <tbody>\n",
       "    <tr>\n",
       "      <th>0</th>\n",
       "      <td>0.0</td>\n",
       "      <td>1.0</td>\n",
       "      <td>0.0</td>\n",
       "      <td>0.0</td>\n",
       "      <td>1.0</td>\n",
       "      <td>1</td>\n",
       "    </tr>\n",
       "    <tr>\n",
       "      <th>1</th>\n",
       "      <td>1.0</td>\n",
       "      <td>0.0</td>\n",
       "      <td>0.0</td>\n",
       "      <td>0.0</td>\n",
       "      <td>1.0</td>\n",
       "      <td>1</td>\n",
       "    </tr>\n",
       "    <tr>\n",
       "      <th>2</th>\n",
       "      <td>1.0</td>\n",
       "      <td>0.0</td>\n",
       "      <td>0.0</td>\n",
       "      <td>0.0</td>\n",
       "      <td>1.0</td>\n",
       "      <td>1</td>\n",
       "    </tr>\n",
       "    <tr>\n",
       "      <th>3</th>\n",
       "      <td>1.0</td>\n",
       "      <td>0.0</td>\n",
       "      <td>0.0</td>\n",
       "      <td>0.0</td>\n",
       "      <td>1.0</td>\n",
       "      <td>1</td>\n",
       "    </tr>\n",
       "    <tr>\n",
       "      <th>4</th>\n",
       "      <td>0.0</td>\n",
       "      <td>1.0</td>\n",
       "      <td>0.0</td>\n",
       "      <td>0.0</td>\n",
       "      <td>1.0</td>\n",
       "      <td>1</td>\n",
       "    </tr>\n",
       "  </tbody>\n",
       "</table>\n",
       "</div>"
      ],
      "text/plain": [
       "   female  male  Biscoe  Dream  Torgersen  species\n",
       "0     0.0   1.0     0.0    0.0        1.0        1\n",
       "1     1.0   0.0     0.0    0.0        1.0        1\n",
       "2     1.0   0.0     0.0    0.0        1.0        1\n",
       "3     1.0   0.0     0.0    0.0        1.0        1\n",
       "4     0.0   1.0     0.0    0.0        1.0        1"
      ]
     },
     "execution_count": 19,
     "metadata": {},
     "output_type": "execute_result"
    }
   ],
   "source": [
    "#solution here\n",
    "discrete_penguin_dataset = penguin_dataset[[\"female\", \"male\", \"Biscoe\", \"Dream\", \"Torgersen\", \"species\"]]\n",
    "discrete_penguin_dataset.head()"
   ]
  },
  {
   "cell_type": "markdown",
   "metadata": {},
   "source": [
    "4. Find the root of the ID3 decision tree using the information gain. What feature should be used? (*Note*: You are not allowed to use external python modules.)"
   ]
  },
  {
   "cell_type": "code",
   "execution_count": 20,
   "metadata": {},
   "outputs": [
    {
     "name": "stdout",
     "output_type": "stream",
     "text": [
      "The root feature is Biscoe\n",
      "0.6125580734423617\n"
     ]
    }
   ],
   "source": [
    "# solution here\n",
    "features = discrete_penguin_dataset.columns[:-1] \n",
    "target_feature = discrete_penguin_dataset.columns[-1] \n",
    "\n",
    "best_feature = \"\"\n",
    "best_ig = -1\n",
    "for feature in features:\n",
    "    feature_ig = calculate_information_gain(penguin_dataset, feature, target_feature)\n",
    "    if feature_ig > best_ig:\n",
    "        best_ig = feature_ig\n",
    "        best_feature = feature\n",
    "\n",
    "print(\"The root feature is\", best_feature)\n",
    "print(best_ig)"
   ]
  },
  {
   "cell_type": "markdown",
   "metadata": {},
   "source": [
    "5. Let's suppose that the root node is \"Biscoe\". Create the variable `filtered_dataset` that should store the sub-tree for Biscoe=1 (in other words, filter out the records from the dataset where Biscoe is 0). Make sure to drop the column of the root node \"Biscoe\"."
   ]
  },
  {
   "cell_type": "code",
   "execution_count": 21,
   "metadata": {},
   "outputs": [],
   "source": [
    "# solution here\n",
    "filtered_dataset = discrete_penguin_dataset[discrete_penguin_dataset[\"Biscoe\"] == 1]\n",
    "filtered_dataset = filtered_dataset.drop(columns=[\"Biscoe\"])"
   ]
  },
  {
   "cell_type": "markdown",
   "metadata": {},
   "source": [
    "6. Create a function `id3` that runs the ID3 classification algorithm on a discrete dataset. It should have only one argument, the dataset.\n",
    "\n",
    "The function should return a dictionary with the following structure:\n",
    "```\n",
    "\"name of the root\" : {\n",
    "    \"total_entropy\" : the total entropy of the current dataset,\n",
    "    \"observations\" : a dictionary where the keys are the values of the target attribute and the values are the number of records having that value,\n",
    "    \"values\" : {\n",
    "        \"unique value 1 of the root feature\" : if the entropy is 0, we have a leaf node, which will contain the value of the target attribute; if not, we will have a similar dictionary where \"unique value 1\" will act as the root for the sub-tree\n",
    "        \"unique value 2 of the root feature\" : \n",
    "        ...\n",
    "        \"unique value n of the root feature\" :\n",
    "    }\n",
    "}\n",
    "```\n",
    "You have an example in [output_example_discrete.txt](data/output_example_discrete.txt) file.\n",
    "\n",
    "*Note*: \n",
    "- If the filtered dataset does not have any other features to evaluate, the leaf node will contain the value of the target attribute that has the highest frequency.\n",
    "- You can assume that the last column of the dataset will always be the target attribute.\n",
    "\n",
    "*Hint*: The algorithm should be recursive: for the current dataset, select the feature that brings the most information gain. Afterwards, filter the datasets based on the values of this feature and rerun id3 on the filtered dataset."
   ]
  },
  {
   "cell_type": "code",
   "execution_count": 22,
   "metadata": {},
   "outputs": [],
   "source": [
    "def id3(dataset):\n",
    "    # we assume that the target attribute is the last column\n",
    "\n",
    "    features = dataset.columns[:-1] \n",
    "    target_feature = dataset.columns[-1] \n",
    "    target_values = np.unique(dataset[target_feature])\n",
    "\n",
    "    n_observations = dataset.shape[0]\n",
    "    target_probs = generate_probabilities(dataset[target_feature].to_numpy().flatten())\n",
    "    total_entropy = calculate_entropy(target_probs)\n",
    "    \n",
    "    if abs(total_entropy - 0) < 10**(-7): # first stop condition: there is only one label present in the subtree; we reached a leaf node\n",
    "        return target_values[0] \n",
    "    \n",
    "    if len(features) == 0: # second stop conditition: there are no more features to use (contradictory labels case); we create a leaf node\n",
    "        return target_values[np.argmax(target_probs)]\n",
    "    \n",
    "    best_feature = \"\"\n",
    "    best_ig = -1\n",
    "    for feature in features:\n",
    "        feature_ig = calculate_information_gain(dataset, feature, target_feature)\n",
    "        if feature_ig > best_ig:\n",
    "            best_ig = feature_ig\n",
    "            best_feature = feature\n",
    "            \n",
    "    if abs(best_ig - 0) < 10**(-7): # third stop condition: no feature brings any information gain; we create a leaf node\n",
    "        return target_values[np.argmax(target_probs)]\n",
    "    \n",
    "    tree = {\n",
    "        best_feature : {\n",
    "            \"total_entropy\" : total_entropy,\n",
    "            \"observations\" : {target_value : int(target_probs[i] * n_observations) for i, target_value in enumerate(target_values)},\n",
    "            \"values\" : dict()\n",
    "        }\n",
    "    }\n",
    "    \n",
    "    best_feature_values = np.unique(dataset[best_feature])\n",
    "    for value in best_feature_values:\n",
    "        filtered_dataset = dataset[dataset[best_feature] == value]\n",
    "        filtered_dataset = filtered_dataset.drop(columns=[best_feature])\n",
    "        \n",
    "        tree[best_feature][\"values\"][value] = id3(filtered_dataset)\n",
    "\n",
    "    return tree"
   ]
  },
  {
   "cell_type": "markdown",
   "metadata": {},
   "source": [
    "7. Run the ID3 algorithm on the `discrete_penguin_dataset` and store the tree in the variable `id3_result`. Print the tree. For a better visualisation, you can use `pprint`."
   ]
  },
  {
   "cell_type": "code",
   "execution_count": 23,
   "metadata": {},
   "outputs": [
    {
     "name": "stdout",
     "output_type": "stream",
     "text": [
      "{'Biscoe': {'observations': {1: 146, 2: 68, 3: 119},\n",
      "            'total_entropy': 1.5200835543530913,\n",
      "            'values': {0.0: {'Dream': {'observations': {1: 102, 2: 68},\n",
      "                                       'total_entropy': 0.9709505944546686,\n",
      "                                       'values': {0.0: 1,\n",
      "                                                  1.0: {'female': {'observations': {1: 55,\n",
      "                                                                                    2: 68},\n",
      "                                                                   'total_entropy': 0.9919270464052614,\n",
      "                                                                   'values': {0.0: 2,\n",
      "                                                                              1.0: 2}}}}}},\n",
      "                       1.0: {'female': {'observations': {1: 44, 3: 119},\n",
      "                                        'total_entropy': 0.8413765894845354,\n",
      "                                        'values': {0.0: 3, 1.0: 3}}}}}}\n"
     ]
    }
   ],
   "source": [
    "# solution here\n",
    "id3_result = id3(discrete_penguin_dataset)\n",
    "pprint(id3_result)"
   ]
  },
  {
   "cell_type": "markdown",
   "metadata": {},
   "source": [
    "8. Run the ID3 implemenation from `sklearn` and plot the decision tree. Compare the results. (*Hint*: `plt.subplots` has a parameter named `figsize` where you can control the width and the height of the plot; (15,10) should be enough.)"
   ]
  },
  {
   "cell_type": "code",
   "execution_count": 24,
   "metadata": {},
   "outputs": [
    {
     "data": {
      "image/png": "[encoded data removed]",
      "text/plain": [
       "<Figure size 1080x720 with 1 Axes>"
      ]
     },
     "metadata": {
      "needs_background": "light"
     },
     "output_type": "display_data"
    }
   ],
   "source": [
    "# solution here\n",
    "y = discrete_penguin_dataset[\"species\"]\n",
    "X_transformed = discrete_penguin_dataset.iloc[:, :-1]\n",
    "dt = tree.DecisionTreeClassifier(criterion='entropy').fit(X_transformed,y)\n",
    "fig, ax = plt.subplots(figsize=(15, 10))\n",
    "f = tree.plot_tree(dt, ax=ax, fontsize=10, feature_names=X_transformed.columns)\n",
    "plt.show()"
   ]
  },
  {
   "cell_type": "markdown",
   "metadata": {},
   "source": [
    "9. Create the function `predict_discrete` that would predict the value of an instance using the output dictionary from the `id3` function. (*Hint*: you can check the class of an object using the `isinstance` function.)"
   ]
  },
  {
   "cell_type": "code",
   "execution_count": 25,
   "metadata": {},
   "outputs": [],
   "source": [
    "def predict_discrete(tree, test_instance):\n",
    "    while True:\n",
    "        current_feature = list(tree.keys())[0]\n",
    "\n",
    "        tree = tree[current_feature][\"values\"][test_instance[current_feature]]\n",
    "        \n",
    "        if not isinstance(tree, dict):\n",
    "            return tree"
   ]
  },
  {
   "cell_type": "markdown",
   "metadata": {},
   "source": [
    "10. Predict the label for the first record from the dataset. (*Hint*: use the Pandas method `iloc`.)"
   ]
  },
  {
   "cell_type": "code",
   "execution_count": 26,
   "metadata": {},
   "outputs": [
    {
     "name": "stdout",
     "output_type": "stream",
     "text": [
      "1\n"
     ]
    }
   ],
   "source": [
    "# solution here\n",
    "print(predict_discrete(id3_result, discrete_penguin_dataset.iloc[0]))"
   ]
  },
  {
   "cell_type": "markdown",
   "metadata": {},
   "source": [
    "11. Create the function `evaluate_discrete` that should return the accuracy of the model on a given set of records."
   ]
  },
  {
   "cell_type": "code",
   "execution_count": 27,
   "metadata": {},
   "outputs": [],
   "source": [
    "def evaluate_discrete(tree, test_data):\n",
    "    labels = test_data.iloc[:, -1]\n",
    "    test_data_input = test_data.iloc[:, :-1]\n",
    "    n_total_tests = test_data.shape[0]\n",
    "    n_correct_predictions = 0\n",
    "    \n",
    "    for i in range(n_total_tests):\n",
    "        n_correct_predictions += predict_discrete(tree, test_data.iloc[i]) == labels[i]\n",
    "\n",
    "    return n_correct_predictions / n_total_tests"
   ]
  },
  {
   "cell_type": "markdown",
   "metadata": {},
   "source": [
    "12. Test the accuracy of the model on the whole penguin dataset."
   ]
  },
  {
   "cell_type": "code",
   "execution_count": 28,
   "metadata": {},
   "outputs": [
    {
     "name": "stdout",
     "output_type": "stream",
     "text": [
      "0.7027027027027027\n",
      "0.7027027027027027\n"
     ]
    }
   ],
   "source": [
    "# solution here\n",
    "print(evaluate_discrete(id3_result, discrete_penguin_dataset))\n",
    "print(dt.score(X_transformed, y))"
   ]
  },
  {
   "cell_type": "markdown",
   "metadata": {},
   "source": [
    "13. Is the accuracy of the model 100%? If yes, why? If no, why?"
   ]
  },
  {
   "cell_type": "markdown",
   "metadata": {},
   "source": [
    "*Answer here: The accuracy is not 1 because the data is redundant, we have the same records with different labels.*"
   ]
  },
  {
   "cell_type": "markdown",
   "metadata": {},
   "source": [
    "## IV. Decision Tree - the continuous case (3.5 points)"
   ]
  },
  {
   "cell_type": "markdown",
   "metadata": {},
   "source": [
    "*Note*: For this case all features will be treated as being continuous. Use the entire `penguin_dataset`!"
   ]
  },
  {
   "cell_type": "markdown",
   "metadata": {},
   "source": [
    "1. In order to include the continuous random variables in the decision trees, we need to discretise them. For that, we will use thresholds.\n",
    "\n",
    "A threshold will appear between two consecutive values of the same feature that have different labels (label = the value of the target attribute).\n",
    "\n",
    "Write a function `get_thresholds` that finds the thresholds for a continuous feature. The function takes three arguments: the dataset, the continuous feature and the target feature that contains the labels."
   ]
  },
  {
   "cell_type": "code",
   "execution_count": 3,
   "metadata": {},
   "outputs": [],
   "source": [
    "def get_thresholds(dataset, feature, target_feature):\n",
    "    # sort the unique values of feature\n",
    "    # then check if two consecutive values have at least one different label\n",
    "    feature_values = dict()\n",
    "    unique_feature_values = np.sort(np.unique(dataset[feature]))\n",
    "    thresholds = []\n",
    "    for i in range(dataset.shape[0]):\n",
    "        current_value = dataset[feature].iloc[i]\n",
    "        current_target_value = dataset[target_feature].iloc[i]\n",
    "        if current_value in feature_values:\n",
    "            feature_values[current_value].add(current_target_value)\n",
    "        else:\n",
    "            feature_values[current_value] = {current_target_value}\n",
    "    \n",
    "    print(feature_values)\n",
    "\n",
    "    for i in range(1, len(unique_feature_values)):\n",
    "        current_val = unique_feature_values[i]\n",
    "        prev_val = unique_feature_values[i-1]\n",
    "\n",
    "        if (len(feature_values[prev_val]) > 1 and len(feature_values[prev_val] & feature_values[current_val]) > 0) or \\\n",
    "            (len(feature_values[prev_val]) == 1 and len(feature_values[current_val] - feature_values[prev_val]) > 0):\n",
    "            thresholds.append((current_val + prev_val) / 2)\n",
    "    \n",
    "    return thresholds"
   ]
  },
  {
   "cell_type": "markdown",
   "metadata": {},
   "source": [
    "2. Find the thresholds for the attribute `flipper_length_mm`."
   ]
  },
  {
   "cell_type": "code",
   "execution_count": 4,
   "metadata": {},
   "outputs": [
    {
     "name": "stdout",
     "output_type": "stream",
     "text": [
      "[177.0, 179.0, 180.5, 181.5, 184.5, 185.5, 186.5, 187.5, 188.5, 189.5, 190.5, 191.5, 192.5, 193.5, 194.5, 195.5, 196.5, 197.5, 198.5, 199.5, 200.5, 201.5, 202.5, 204.0, 205.5, 206.5, 207.5, 208.5, 209.5, 210.5, 211.5, 212.5]\n"
     ]
    }
   ],
   "source": [
    "# solution here\n",
    "print(get_thresholds(penguin_dataset, \"flipper_length_mm\", \"species\"))"
   ]
  },
  {
   "cell_type": "markdown",
   "metadata": {},
   "source": [
    "3. Find the best threshold for the attribute `flipper_length_mm` using the information gain."
   ]
  },
  {
   "cell_type": "code",
   "execution_count": 31,
   "metadata": {},
   "outputs": [
    {
     "name": "stdout",
     "output_type": "stream",
     "text": [
      "206.5 0.8065245715639433\n"
     ]
    }
   ],
   "source": [
    "# solution here\n",
    "thresholds = get_thresholds(penguin_dataset, \"flipper_length_mm\", \"species\")\n",
    "feature = \"flipper_length_mm\"\n",
    "\n",
    "best_ig = -1\n",
    "best_threshold = 0        \n",
    "for threshold in thresholds:\n",
    "    dataset_copy = penguin_dataset.copy()\n",
    "    dataset_copy[feature] = dataset_copy[feature] < threshold\n",
    "    feature_ig = calculate_information_gain(dataset_copy, feature, target_feature)\n",
    "\n",
    "    if feature_ig > best_ig:\n",
    "        best_ig = feature_ig\n",
    "        best_threshold = threshold\n",
    "\n",
    "print(best_threshold, best_ig)"
   ]
  },
  {
   "cell_type": "markdown",
   "metadata": {},
   "source": [
    "4. Find the best feature and the best threshold to be used as root for the decision tree using the information gain."
   ]
  },
  {
   "cell_type": "code",
   "execution_count": 32,
   "metadata": {},
   "outputs": [
    {
     "name": "stdout",
     "output_type": "stream",
     "text": [
      "Best attribute = flipper_length_mm  best threshold = 206.5\n"
     ]
    }
   ],
   "source": [
    "# solution here\n",
    "feature = \"flipper_length_mm\"\n",
    "\n",
    "best_feature = \"\"\n",
    "best_threshold = 0\n",
    "best_ig = 0     \n",
    "features = penguin_dataset.columns[:-1] \n",
    "target_feature = penguin_dataset.columns[-1] \n",
    "for feature in features:\n",
    "    thresholds = get_thresholds(penguin_dataset, feature, target_feature)\n",
    "    for threshold in thresholds:\n",
    "        dataset_copy = penguin_dataset.copy()\n",
    "        dataset_copy[feature] = dataset_copy[feature] < threshold\n",
    "        feature_ig = calculate_information_gain(dataset_copy, feature, target_feature)\n",
    "\n",
    "        if feature_ig > best_ig:\n",
    "            best_ig = feature_ig\n",
    "            best_threshold = threshold\n",
    "            best_feature = feature\n",
    "\n",
    "print(\"Best attribute =\", best_feature, \" best threshold =\", best_threshold)"
   ]
  },
  {
   "cell_type": "markdown",
   "metadata": {},
   "source": [
    "5. Let's suppose that the root node is \"flipper_length_mm\" and the threshold 206.5. Create the variable `filtered_dataset` that should store the sub-tree for `flipper_length_mm < 206.5`. Do not drop the column if there are any other thresholds for the same attribute."
   ]
  },
  {
   "cell_type": "code",
   "execution_count": 33,
   "metadata": {},
   "outputs": [
    {
     "name": "stdout",
     "output_type": "stream",
     "text": [
      "     female  male  Biscoe  Dream  Torgersen  bill_length_mm  bill_depth_mm  \\\n",
      "0       0.0   1.0     0.0    0.0        1.0            39.1           18.7   \n",
      "1       1.0   0.0     0.0    0.0        1.0            39.5           17.4   \n",
      "2       1.0   0.0     0.0    0.0        1.0            40.3           18.0   \n",
      "3       1.0   0.0     0.0    0.0        1.0            36.7           19.3   \n",
      "4       0.0   1.0     0.0    0.0        1.0            39.3           20.6   \n",
      "..      ...   ...     ...    ...        ...             ...            ...   \n",
      "326     1.0   0.0     0.0    1.0        0.0            46.8           16.5   \n",
      "327     1.0   0.0     0.0    1.0        0.0            45.7           17.0   \n",
      "329     1.0   0.0     0.0    1.0        0.0            43.5           18.1   \n",
      "330     0.0   1.0     0.0    1.0        0.0            49.6           18.2   \n",
      "332     1.0   0.0     0.0    1.0        0.0            50.2           18.7   \n",
      "\n",
      "     flipper_length_mm  body_mass_g  species  \n",
      "0                181.0       3750.0        1  \n",
      "1                186.0       3800.0        1  \n",
      "2                195.0       3250.0        1  \n",
      "3                193.0       3450.0        1  \n",
      "4                190.0       3650.0        1  \n",
      "..                 ...          ...      ...  \n",
      "326              189.0       3650.0        2  \n",
      "327              195.0       3650.0        2  \n",
      "329              202.0       3400.0        2  \n",
      "330              193.0       3775.0        2  \n",
      "332              198.0       3775.0        2  \n",
      "\n",
      "[208 rows x 10 columns]\n"
     ]
    }
   ],
   "source": [
    "# solution here\n",
    "filtered_dataset = penguin_dataset[penguin_dataset[\"flipper_length_mm\"] < 206.5]\n",
    "print(filtered_dataset)\n",
    "# you can check the number of thresholds using the output from `get_thresholds`"
   ]
  },
  {
   "cell_type": "markdown",
   "metadata": {},
   "source": [
    "6. Create a function `id3_continuous` that runs the ID3 algorithm for the continuous case.\n",
    "\n",
    "The output dictionary should have the same structure, with the following differences:\n",
    "- the name of the root and of the internal nodes will not be just `feature name`, but `feature_name<threshold_value`.\n",
    "- the keys of the \"values\" dictionary will be just \"YES\" (when the condition `feature<threshold` is met) and \"NO\" (otherwise)\n",
    "\n",
    "You have an example in [output_example_continuous.txt](data/output_example_continuous.txt) file.\n",
    "\n",
    "\n",
    "*Notes*: \n",
    "- Do NOT delete the chosen attribute if it has more than one threshold."
   ]
  },
  {
   "cell_type": "code",
   "execution_count": 34,
   "metadata": {},
   "outputs": [],
   "source": [
    "def id3_continuous(dataset):\n",
    "    # we assume that the target attribute is the last column\n",
    "    \n",
    "    features = dataset.columns[:-1] \n",
    "    target_feature = dataset.columns[-1] \n",
    "    target_values = np.unique(dataset[target_feature])\n",
    "    \n",
    "    n_observations = dataset.shape[0]\n",
    "    target_probs = generate_probabilities(dataset[target_feature].to_numpy().flatten())\n",
    "    total_entropy = calculate_entropy(target_probs)\n",
    "\n",
    "    if abs(total_entropy - 0) < 10**(-7):\n",
    "        return target_values[0] \n",
    "    \n",
    "    if len(features) == 0:\n",
    "        return target_values[np.argmax(target_probs)]\n",
    "    \n",
    "    best_feature = \"\"\n",
    "    best_threshold = 0\n",
    "    best_n_thresholds = 0\n",
    "    best_ig = 0\n",
    "    for feature in features:\n",
    "        thresholds = get_thresholds(dataset, feature, target_feature)\n",
    "        \n",
    "        for threshold in thresholds:\n",
    "            dataset_copy = dataset.copy()\n",
    "            dataset_copy[feature] = dataset_copy[feature] < threshold\n",
    "            feature_ig = calculate_information_gain(dataset_copy, feature, target_feature)\n",
    "\n",
    "            if feature_ig > best_ig:\n",
    "                best_ig = feature_ig\n",
    "                best_feature = feature\n",
    "                best_threshold = threshold\n",
    "                best_n_thresholds = len(thresholds)\n",
    "\n",
    "    if best_ig == 0:\n",
    "        return target_values[np.argmax(target_probs)]\n",
    "            \n",
    "    combined = f\"{best_feature}<{best_threshold}\"\n",
    "    tree = {\n",
    "        combined : {\n",
    "            \"total_entropy\" : total_entropy,\n",
    "            \"observations\" : {target_value : int(target_probs[i] * n_observations) for i, target_value in enumerate(target_values)},\n",
    "            \"values\" : dict()\n",
    "            \n",
    "        }\n",
    "    }\n",
    "    \n",
    "    filtered_dataset = dataset[dataset[best_feature] < best_threshold]\n",
    "    if best_n_thresholds == 1:\n",
    "        filtered_dataset = filtered_dataset.drop(columns = [best_feature])\n",
    "    tree[combined][\"values\"][\"YES\"] = id3_continuous(filtered_dataset)\n",
    "\n",
    "    filtered_dataset = dataset[dataset[best_feature] > best_threshold]\n",
    "    if best_n_thresholds == 1:\n",
    "        filtered_dataset = filtered_dataset.drop(columns = [best_feature])\n",
    "    tree[combined][\"values\"][\"NO\"] = id3_continuous(filtered_dataset)\n",
    "\n",
    "    return tree"
   ]
  },
  {
   "cell_type": "markdown",
   "metadata": {},
   "source": [
    "7. Run the continuous version of ID3 algorithm on the `penguin_dataset` and store the tree in the variable `id3_continuous_result`. Print the tree. For a better visualisation, you can use `pprint`."
   ]
  },
  {
   "cell_type": "code",
   "execution_count": 35,
   "metadata": {},
   "outputs": [
    {
     "name": "stdout",
     "output_type": "stream",
     "text": [
      "{'flipper_length_mm<206.5': {'observations': {1: 146, 2: 68, 3: 119},\n",
      "                             'total_entropy': 1.5200835543530913,\n",
      "                             'values': {'NO': {'bill_depth_mm<17.65': {'observations': {1: 2,\n",
      "                                                                                        2: 5,\n",
      "                                                                                        3: 118},\n",
      "                                                                       'total_entropy': 0.3596921222690145,\n",
      "                                                                       'values': {'NO': {'bill_length_mm<46.55': {'observations': {1: 2,\n",
      "                                                                                                                                   2: 5},\n",
      "                                                                                                                  'total_entropy': 0.863120568566631,\n",
      "                                                                                                                  'values': {'NO': 2,\n",
      "                                                                                                                             'YES': 1}}},\n",
      "                                                                                  'YES': 3}}},\n",
      "                                        'YES': {'bill_length_mm<43.35': {'observations': {1: 144,\n",
      "                                                                                          2: 62,\n",
      "                                                                                          3: 1},\n",
      "                                                                         'total_entropy': 0.9262193556978819,\n",
      "                                                                         'values': {'NO': {'Dream<0.5': {'observations': {1: 4,\n",
      "                                                                                                                          2: 58,\n",
      "                                                                                                                          3: 1},\n",
      "                                                                                                         'total_entropy': 0.4572339279856438,\n",
      "                                                                                                         'values': {'NO': {'bill_length_mm<44.650000000000006': {'observations': {1: 1,\n",
      "                                                                                                                                                                                  2: 58},\n",
      "                                                                                                                                                                 'total_entropy': 0.12394986771100759,\n",
      "                                                                                                                                                                 'values': {'NO': 2,\n",
      "                                                                                                                                                                            'YES': {'female<0.5': {'observations': {1: 1,\n",
      "                                                                                                                                                                                                                    2: 1},\n",
      "                                                                                                                                                                                                   'total_entropy': 1.0,\n",
      "                                                                                                                                                                                                   'values': {'NO': 2,\n",
      "                                                                                                                                                                                                              'YES': 1}}}}}},\n",
      "                                                                                                                    'YES': {'female<0.5': {'observations': {1: 3,\n",
      "                                                                                                                                                            3: 1},\n",
      "                                                                                                                                           'total_entropy': 0.8112781244591328,\n",
      "                                                                                                                                           'values': {'NO': 3,\n",
      "                                                                                                                                                      'YES': 1}}}}}},\n",
      "                                                                                    'YES': {'bill_length_mm<42.349999999999994': {'observations': {1: 140,\n",
      "                                                                                                                                                   2: 5},\n",
      "                                                                                                                                  'total_entropy': 0.21639693245126462,\n",
      "                                                                                                                                  'values': {'NO': {'female<0.5': {'observations': {1: 7,\n",
      "                                                                                                                                                                                    2: 4},\n",
      "                                                                                                                                                                   'total_entropy': 0.9456603046006401,\n",
      "                                                                                                                                                                   'values': {'NO': 2,\n",
      "                                                                                                                                                                              'YES': 1}}},\n",
      "                                                                                                                                             'YES': {'bill_depth_mm<16.65': {'observations': {1: 133,\n",
      "                                                                                                                                                                                              2: 1},\n",
      "                                                                                                                                                                             'total_entropy': 0.06345811641554695,\n",
      "                                                                                                                                                                             'values': {'NO': 1,\n",
      "                                                                                                                                                                                        'YES': {'bill_length_mm<39.5': {'observations': {1: 10,\n",
      "                                                                                                                                                                                                                                         2: 1},\n",
      "                                                                                                                                                                                                                        'total_entropy': 0.4394969869215134,\n",
      "                                                                                                                                                                                                                        'values': {'NO': 2,\n",
      "                                                                                                                                                                                                                                   'YES': 1}}}}}}}}}}}}}}}\n"
     ]
    }
   ],
   "source": [
    "id3_continuous_result = id3_continuous(penguin_dataset)\n",
    "pprint(id3_continuous_result)"
   ]
  },
  {
   "cell_type": "markdown",
   "metadata": {},
   "source": [
    "8. Run the ID3 implemenation from `sklearn` and plot the decision tree. Compare the results. (*Hint*: `plt.subplots` has a parameter named `figsize` where you can control the width and the height of the plot; (25,10) should be enough.)"
   ]
  },
  {
   "cell_type": "code",
   "execution_count": 36,
   "metadata": {},
   "outputs": [
    {
     "data": {
      "image/png": "[encoded data removed]",
      "text/plain": [
       "<Figure size 1800x720 with 1 Axes>"
      ]
     },
     "metadata": {
      "needs_background": "light"
     },
     "output_type": "display_data"
    }
   ],
   "source": [
    "# solution here\n",
    "y = penguin_dataset[\"species\"]\n",
    "X_transformed = penguin_dataset.iloc[:, :-1]\n",
    "dt = tree.DecisionTreeClassifier(criterion='entropy').fit(X_transformed,y)\n",
    "fig, ax = plt.subplots(figsize=(25, 10))\n",
    "f = tree.plot_tree(dt, ax=ax, fontsize=10, feature_names=X_transformed.columns)\n",
    "plt.show()"
   ]
  },
  {
   "cell_type": "markdown",
   "metadata": {},
   "source": [
    "9. Create the function `predict_continuous` that would predict the value of an instance using the output dictionary from the `id3` function. (*Hint*: the `split` method separates a string by a character)"
   ]
  },
  {
   "cell_type": "code",
   "execution_count": 37,
   "metadata": {},
   "outputs": [],
   "source": [
    "def predict_continuous(tree, test_instance):\n",
    "    while True:\n",
    "        current_key = list(tree.keys())[0]\n",
    "        current_feature, current_threshold = current_key.split(\"<\")\n",
    "        current_threshold = float(current_threshold)\n",
    "\n",
    "        condition_result = \"YES\" if test_instance[current_feature] < current_threshold else \"NO\"\n",
    "        tree = tree[current_key][\"values\"][condition_result]\n",
    "        \n",
    "        if not isinstance(tree, dict):\n",
    "            return tree"
   ]
  },
  {
   "cell_type": "markdown",
   "metadata": {},
   "source": [
    "10. Predict the label for the first record from the dataset."
   ]
  },
  {
   "cell_type": "code",
   "execution_count": 38,
   "metadata": {},
   "outputs": [
    {
     "name": "stdout",
     "output_type": "stream",
     "text": [
      "1\n"
     ]
    }
   ],
   "source": [
    "# solution here\n",
    "print(predict_continuous(id3_continuous_result, penguin_dataset.iloc[0]))"
   ]
  },
  {
   "cell_type": "markdown",
   "metadata": {},
   "source": [
    "11. Create the function `evaluate_continuous` that should return the accuracy of the model on a given set of records."
   ]
  },
  {
   "cell_type": "code",
   "execution_count": 39,
   "metadata": {},
   "outputs": [],
   "source": [
    "def evaluate_continuous(tree, test_data):\n",
    "    labels = test_data.iloc[:, -1]\n",
    "    test_data_input = test_data.iloc[:, :-1]\n",
    "    n_total_tests = test_data.shape[0]\n",
    "    n_correct_predictions = 0\n",
    "    \n",
    "    for i in range(n_total_tests):\n",
    "        n_correct_predictions += predict_continuous(tree, test_data.iloc[i]) == labels[i]\n",
    "\n",
    "    return n_correct_predictions / n_total_tests"
   ]
  },
  {
   "cell_type": "markdown",
   "metadata": {},
   "source": [
    "12. Test the accuracy of the model on the whole penguin dataset."
   ]
  },
  {
   "cell_type": "code",
   "execution_count": 40,
   "metadata": {},
   "outputs": [
    {
     "name": "stdout",
     "output_type": "stream",
     "text": [
      "1.0\n",
      "1.0\n"
     ]
    }
   ],
   "source": [
    "# solution here\n",
    "print(evaluate_continuous(id3_continuous_result, penguin_dataset))\n",
    "print(dt.score(X_transformed, y))"
   ]
  },
  {
   "cell_type": "markdown",
   "metadata": {},
   "source": [
    "13. Modify the `id3_continuous` function so it will allow pruning. (*Hint*: use a second parameter, `max_depth` to control the number of tree levels,)"
   ]
  },
  {
   "cell_type": "code",
   "execution_count": 41,
   "metadata": {},
   "outputs": [],
   "source": [
    "def id3_continuous(dataset, max_depth = -1):\n",
    "    # we assume that the target attribute is the last column\n",
    "    \n",
    "    features = dataset.columns[:-1] \n",
    "    target_feature = dataset.columns[-1] \n",
    "    target_values = np.unique(dataset[target_feature])\n",
    "    \n",
    "    n_observations = dataset.shape[0]\n",
    "    target_probs = generate_probabilities(dataset[target_feature].to_numpy().flatten())\n",
    "    total_entropy = calculate_entropy(target_probs)\n",
    "\n",
    "    if abs(total_entropy - 0) < 10**(-7):\n",
    "        return target_values[0] \n",
    "    \n",
    "    if len(features) == 0 or max_depth == 0:\n",
    "        return target_values[np.argmax(target_probs)]\n",
    "    \n",
    "    best_feature = \"\"\n",
    "    best_threshold = 0\n",
    "    best_n_thresholds = 0\n",
    "    best_ig = 0\n",
    "    for feature in features:\n",
    "        thresholds = get_thresholds(dataset, feature, target_feature)\n",
    "        \n",
    "        for threshold in thresholds:\n",
    "            dataset_copy = dataset.copy()\n",
    "            dataset_copy[feature] = dataset_copy[feature] < threshold\n",
    "            feature_ig = calculate_information_gain(dataset_copy, feature, target_feature)\n",
    "\n",
    "            if feature_ig > best_ig:\n",
    "                best_ig = feature_ig\n",
    "                best_feature = feature\n",
    "                best_threshold = threshold\n",
    "                best_n_thresholds = len(thresholds)\n",
    "            \n",
    "    combined = f\"{best_feature}<{best_threshold}\"\n",
    "    tree = {\n",
    "        combined : {\n",
    "            \"total_entropy\" : total_entropy,\n",
    "            \"observations\" : {target_value : int(target_probs[i] * n_observations) for i, target_value in enumerate(target_values)},\n",
    "            \"values\" : dict()\n",
    "            \n",
    "        }\n",
    "    }\n",
    "    \n",
    "    filtered_dataset = dataset[dataset[best_feature] < best_threshold]\n",
    "    if best_n_thresholds == 1:\n",
    "        filtered_dataset = filtered_dataset.drop(columns = [best_feature])\n",
    "    tree[combined][\"values\"][\"YES\"] = id3_continuous(filtered_dataset, max_depth - 1)\n",
    "\n",
    "    filtered_dataset = dataset[dataset[best_feature] > best_threshold]\n",
    "    if best_n_thresholds == 1:\n",
    "        filtered_dataset = filtered_dataset.drop(columns = [best_feature])\n",
    "    tree[combined][\"values\"][\"NO\"] = id3_continuous(filtered_dataset, max_depth - 1)\n",
    "\n",
    "    return tree"
   ]
  },
  {
   "cell_type": "markdown",
   "metadata": {},
   "source": [
    "14. Apply the prunned version of ID3 (using the custom and the `sklearn` implementation) with `max_depth = 2`. Compare the results."
   ]
  },
  {
   "cell_type": "code",
   "execution_count": 42,
   "metadata": {},
   "outputs": [
    {
     "name": "stdout",
     "output_type": "stream",
     "text": [
      "{'flipper_length_mm<206.5': {'observations': {1: 146, 2: 68, 3: 119},\n",
      "                             'total_entropy': 1.5200835543530913,\n",
      "                             'values': {'NO': {'bill_depth_mm<17.65': {'observations': {1: 2,\n",
      "                                                                                        2: 5,\n",
      "                                                                                        3: 118},\n",
      "                                                                       'total_entropy': 0.3596921222690145,\n",
      "                                                                       'values': {'NO': 2,\n",
      "                                                                                  'YES': 3}}},\n",
      "                                        'YES': {'bill_length_mm<43.35': {'observations': {1: 144,\n",
      "                                                                                          2: 62,\n",
      "                                                                                          3: 1},\n",
      "                                                                         'total_entropy': 0.9262193556978819,\n",
      "                                                                         'values': {'NO': 2,\n",
      "                                                                                    'YES': 1}}}}}}\n"
     ]
    },
    {
     "data": {
      "image/png": "[encoded data removed]",
      "text/plain": [
       "<Figure size 1800x720 with 1 Axes>"
      ]
     },
     "metadata": {
      "needs_background": "light"
     },
     "output_type": "display_data"
    }
   ],
   "source": [
    "# solution here\n",
    "id3_continuous_result_pruned = id3_continuous(penguin_dataset, 2)\n",
    "pprint(id3_continuous_result_pruned)\n",
    "\n",
    "y = penguin_dataset[\"species\"]\n",
    "X_transformed = penguin_dataset.iloc[:, :-1]\n",
    "dt = tree.DecisionTreeClassifier(criterion='entropy', max_depth=2).fit(X_transformed,y)\n",
    "fig, ax = plt.subplots(figsize=(25, 10))\n",
    "f = tree.plot_tree(dt, ax=ax, fontsize=10, feature_names=X_transformed.columns)\n",
    "plt.show()"
   ]
  },
  {
   "cell_type": "markdown",
   "metadata": {},
   "source": [
    "Credits: some part of the implementation was inspired by https://medium.com/geekculture/step-by-step-decision-tree-id3-algorithm-from-scratch-in-python-no-fancy-library-4822bbfdd88f"
   ]
  }
 ],
 "metadata": {
  "kernelspec": {
   "display_name": "Python 3.10.4 64-bit",
   "language": "python",
   "name": "python3"
  },
  "language_info": {
   "codemirror_mode": {
    "name": "ipython",
    "version": 3
   },
   "file_extension": ".py",
   "mimetype": "text/x-python",
   "name": "python",
   "nbconvert_exporter": "python",
   "pygments_lexer": "ipython3",
   "version": "3.10.4"
  },
  "orig_nbformat": 4,
  "vscode": {
   "interpreter": {
    "hash": "369f2c481f4da34e4445cda3fffd2e751bd1c4d706f27375911949ba6bb62e1c"
   }
  }
 },
 "nbformat": 4,
 "nbformat_minor": 2
}
